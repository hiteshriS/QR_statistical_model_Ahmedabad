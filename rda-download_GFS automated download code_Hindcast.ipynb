{
 "cells": [
  {
   "cell_type": "markdown",
   "metadata": {},
   "source": [
    " # Notebook for Downloading RDA Data."
   ]
  },
  {
   "cell_type": "code",
   "execution_count": 1,
   "metadata": {},
   "outputs": [],
   "source": [
    "import sys, os\n",
    "import requests"
   ]
  },
  {
   "cell_type": "code",
   "execution_count": 2,
   "metadata": {},
   "outputs": [],
   "source": [
    "filelist = [ \"https://request.rda.ucar.edu/dsrqst/BASU802497/TarFiles/gfs.0p25.2025060212.f084-25.2025071500.f018.grib2.nc.tar\",\n",
    " ]"
   ]
  },
  {
   "cell_type": "markdown",
   "metadata": {},
   "source": [
    "Change the value of `save_dir` if you prefer your files saved somewhere other than the current directory."
   ]
  },
  {
   "cell_type": "code",
   "execution_count": 3,
   "metadata": {},
   "outputs": [],
   "source": [
    "save_dir = '/home/subhojit/sanghita_14-06-2025/GFS/U850'"
   ]
  },
  {
   "cell_type": "markdown",
   "metadata": {},
   "source": [
    " ## Now to download the files"
   ]
  },
  {
   "cell_type": "code",
   "execution_count": 4,
   "metadata": {},
   "outputs": [
    {
     "name": "stdout",
     "output_type": "stream",
     "text": [
      "Downloading: https://request.rda.ucar.edu/dsrqst/BASU802497/TarFiles/gfs.0p25.2025060212.f084-25.2025071500.f018.grib2.nc.tar\n",
      "Saved to: /home/subhojit/sanghita_14-06-2025/GFS/U850/gfs.0p25.2025060212.f084-25.2025071500.f018.grib2.nc.tar\n"
     ]
    }
   ],
   "source": [
    "for file in filelist:\n",
    "    print('Downloading:', file)\n",
    "\n",
    "    try:\n",
    "        # Use URL directly for the request\n",
    "        req = requests.get(file, allow_redirects=True)\n",
    "\n",
    "        # Save using just the filename part\n",
    "        filename = os.path.join(save_dir, os.path.basename(file))\n",
    "        with open(filename, 'wb') as f:\n",
    "            f.write(req.content)\n",
    "\n",
    "        print(f\"Saved to: {filename}\")\n",
    "    except Exception as e:\n",
    "        print(f\"Failed to download {file}: {e}\")"
   ]
  },
  {
   "cell_type": "markdown",
   "metadata": {},
   "source": [
    "### Once you have downloaded the data, the next part can help you plot it."
   ]
  },
  {
   "cell_type": "markdown",
   "metadata": {},
   "source": [
    "In order to plot this data, you may need to install some libraries. The easiest way to do this is to use conda or pip, however any method of getting the following libraries will work."
   ]
  },
  {
   "cell_type": "code",
   "execution_count": null,
   "metadata": {},
   "outputs": [],
   "source": [
    "import xarray # used for reading the data.\n",
    "import matplotlib.pyplot as plt # used to plot the data.\n",
    "import ipywidgets as widgets # For ease in selecting variables.\n",
    "import cartopy.crs as ccrs # Used to georeference data."
   ]
  },
  {
   "cell_type": "code",
   "execution_count": null,
   "metadata": {},
   "outputs": [],
   "source": [
    "filelist_arr = [save_dir + os.path.basename(file) for file in filelist]\n",
    "selected_file = widgets.Dropdown(options=filelist_arr, description='data file')\n",
    "display(selected_file)"
   ]
  },
  {
   "cell_type": "code",
   "execution_count": null,
   "metadata": {},
   "outputs": [],
   "source": [
    "# Now to load in the data to xarray\n",
    "ds = xarray.open_dataset(selected_file.value)"
   ]
  },
  {
   "cell_type": "code",
   "execution_count": null,
   "metadata": {},
   "outputs": [],
   "source": [
    "# Helper methods# Define function to get standard dimensions\n",
    "def get_primary(dataset):\n",
    "    primary_variables = {}\n",
    "    coords = dataset.coords.keys()\n",
    "    highest_dims = 0\n",
    "    for cur_key,cur_var in dataset.variables.items():\n",
    "        if cur_key not in coords:\n",
    "            primary_variables[cur_key] = cur_var\n",
    "    return primary_variables "
   ]
  },
  {
   "cell_type": "code",
   "execution_count": null,
   "metadata": {},
   "outputs": [],
   "source": [
    "var = widgets.Dropdown(\n",
    "    options=get_primary(ds).keys(),\n",
    "    description='Variable')\n",
    "display(var)"
   ]
  },
  {
   "cell_type": "code",
   "execution_count": null,
   "metadata": {},
   "outputs": [],
   "source": [
    "proj = ccrs.Mercator()\n",
    "plt.gcf().set_size_inches(20,10)\n",
    "ax = plt.axes(projection=proj)\n",
    "data_slice = ds[var.value].isel(time=0)\n",
    "data_slice.plot.contourf(ax=ax, transform=ccrs.PlateCarree())\n",
    "ax.set_global()\n",
    "ax.coastlines()"
   ]
  }
 ],
 "metadata": {
  "kernelspec": {
   "display_name": "Python 3 (ipykernel)",
   "language": "python",
   "name": "python3"
  },
  "language_info": {
   "codemirror_mode": {
    "name": "ipython",
    "version": 3
   },
   "file_extension": ".py",
   "mimetype": "text/x-python",
   "name": "python",
   "nbconvert_exporter": "python",
   "pygments_lexer": "ipython3",
   "version": "3.12.3"
  }
 },
 "nbformat": 4,
 "nbformat_minor": 4
}
