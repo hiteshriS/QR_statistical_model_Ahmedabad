{
 "cells": [
  {
   "cell_type": "code",
   "execution_count": 1,
   "id": "7c9f5dc4",
   "metadata": {},
   "outputs": [],
   "source": [
    "import pygrib"
   ]
  },
  {
   "cell_type": "code",
   "execution_count": 2,
   "id": "4c59a321",
   "metadata": {},
   "outputs": [
    {
     "name": "stderr",
     "output_type": "stream",
     "text": [
      "C:\\Users\\Angshudeep Majumdar\\AppData\\Local\\Temp\\ipykernel_9252\\3867571225.py:4: DeprecationWarning: datetime.datetime.utcnow() is deprecated and scheduled for removal in a future version. Use timezone-aware objects to represent datetimes in UTC: datetime.datetime.now(datetime.UTC).\n",
      "  current_utc_datetime = datetime.utcnow().date()\n"
     ]
    },
    {
     "data": {
      "text/plain": [
       "datetime.date(2025, 6, 26)"
      ]
     },
     "execution_count": 2,
     "metadata": {},
     "output_type": "execute_result"
    }
   ],
   "source": [
    "from datetime import datetime\n",
    "\n",
    "# Get the current UTC date and time\n",
    "current_utc_datetime = datetime.utcnow().date()\n",
    "current_utc_datetime"
   ]
  },
  {
   "cell_type": "code",
   "execution_count": 4,
   "id": "0ee595da",
   "metadata": {},
   "outputs": [
    {
     "name": "stderr",
     "output_type": "stream",
     "text": [
      "C:\\Users\\Angshudeep Majumdar\\AppData\\Local\\Temp\\ipykernel_9252\\362311927.py:13: DeprecationWarning: datetime.datetime.utcnow() is deprecated and scheduled for removal in a future version. Use timezone-aware objects to represent datetimes in UTC: datetime.datetime.now(datetime.UTC).\n",
      "  current_date = datetime.utcnow()\n"
     ]
    },
    {
     "name": "stdout",
     "output_type": "stream",
     "text": [
      "Downloaded: gfs.20250626.t00z.pgrb2.0p25.f015\n",
      "Downloaded: gfs.20250626.t00z.pgrb2.0p25.f018\n",
      "Downloaded: gfs.20250626.t00z.pgrb2.0p25.f021\n",
      "Downloaded: gfs.20250626.t00z.pgrb2.0p25.f024\n",
      "Downloaded: gfs.20250626.t00z.pgrb2.0p25.f027\n",
      "Downloaded: gfs.20250626.t00z.pgrb2.0p25.f030\n",
      "Downloaded: gfs.20250626.t00z.pgrb2.0p25.f033\n",
      "Downloaded: gfs.20250626.t00z.pgrb2.0p25.f036\n",
      "Downloaded: gfs.20250626.t00z.pgrb2.0p25.f039\n",
      "Downloaded: gfs.20250626.t00z.pgrb2.0p25.f042\n",
      "Downloaded: gfs.20250626.t00z.pgrb2.0p25.f045\n",
      "Downloaded: gfs.20250626.t00z.pgrb2.0p25.f048\n",
      "Downloaded: gfs.20250626.t00z.pgrb2.0p25.f051\n",
      "Downloaded: gfs.20250626.t00z.pgrb2.0p25.f054\n",
      "Downloaded: gfs.20250626.t00z.pgrb2.0p25.f057\n",
      "Downloaded: gfs.20250626.t00z.pgrb2.0p25.f060\n",
      "Downloaded: gfs.20250626.t00z.pgrb2.0p25.f063\n",
      "Downloaded: gfs.20250626.t00z.pgrb2.0p25.f066\n",
      "Downloaded: gfs.20250626.t00z.pgrb2.0p25.f069\n",
      "Downloaded: gfs.20250626.t00z.pgrb2.0p25.f072\n",
      "Downloaded: gfs.20250626.t00z.pgrb2.0p25.f075\n",
      "Downloaded: gfs.20250626.t00z.pgrb2.0p25.f078\n",
      "Downloaded: gfs.20250626.t00z.pgrb2.0p25.f081\n",
      "Downloaded: gfs.20250626.t00z.pgrb2.0p25.f084\n"
     ]
    }
   ],
   "source": [
    "import os\n",
    "import requests\n",
    "from datetime import datetime, timedelta\n",
    "\n",
    "base_url = \"https://nomads.ncep.noaa.gov/cgi-bin/filter_gfs_0p25.pl\"\n",
    "\n",
    "# Create a directory to store the downloaded files\n",
    "output_directory = \"C:/Users/Angshudeep Majumdar/Desktop/Rain\"\n",
    "if not os.path.exists(output_directory):\n",
    "    os.makedirs(output_directory)\n",
    "\n",
    "# Define the date for the forecast (in UTC)\n",
    "current_date = datetime.utcnow()\n",
    "#current_date=current_date - timedelta(days=1)\n",
    "\n",
    "# List of initialization times (00, 06, 12, and 18 UTC)\n",
    "init_times = [6]\n",
    "\n",
    "for time in init_times:\n",
    "    # Loop through forecast hours from 3 to 72 in 3-hour intervals\n",
    "    for forecast_hour in range(15, 85, 3):\n",
    "        # Construct the URL for the current forecast hour and initialization time\n",
    "        url = f\"{base_url}?dir=%2Fgfs.{current_date.strftime('%Y%m%d')}%2F{time:02d}%2Fatmos&file=gfs.t{time:02d}z.pgrb2.0p25.f{forecast_hour:03d}&var_PRATE=on&lev_surface=on&subregion=&toplat=20&leftlon=72&rightlon=74&bottomlat=18\"\n",
    "        \n",
    "        # Extract the filename from the URL\n",
    "        filename = f\"gfs.{current_date.strftime('%Y%m%d')}.t{time:02d}z.pgrb2.0p25.f{forecast_hour:03d}\"\n",
    "        filepath = os.path.join(output_directory, filename)\n",
    "\n",
    "        # Send a GET request to the URL\n",
    "        response = requests.get(url)\n",
    "\n",
    "        # Check if the request was successful (HTTP status code 200)\n",
    "        if response.status_code == 200:\n",
    "            # Save the downloaded file\n",
    "            with open(filepath, \"wb\") as file:\n",
    "                file.write(response.content)\n",
    "            print(f\"Downloaded: {filename}\")\n",
    "        else:\n",
    "            print(f\"Failed to download: {url}, HTTP status code: {response.status_code}\")"
   ]
  },
  {
   "cell_type": "code",
   "execution_count": null,
   "id": "4fed59c0",
   "metadata": {},
   "outputs": [],
   "source": []
  }
 ],
 "metadata": {
  "kernelspec": {
   "display_name": "Python 3 (ipykernel)",
   "language": "python",
   "name": "python3"
  },
  "language_info": {
   "codemirror_mode": {
    "name": "ipython",
    "version": 3
   },
   "file_extension": ".py",
   "mimetype": "text/x-python",
   "name": "python",
   "nbconvert_exporter": "python",
   "pygments_lexer": "ipython3",
   "version": "3.12.3"
  }
 },
 "nbformat": 4,
 "nbformat_minor": 5
}
