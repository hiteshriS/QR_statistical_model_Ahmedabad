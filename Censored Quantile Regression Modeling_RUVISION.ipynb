{
 "cells": [
  {
   "cell_type": "code",
   "execution_count": 35,
   "id": "e5bab0b8-c249-421b-b075-b61b19543359",
   "metadata": {},
   "outputs": [],
   "source": [
    "import pandas as pd\n",
    "import numpy as np"
   ]
  },
  {
   "cell_type": "code",
   "execution_count": 36,
   "id": "0b64e48e-4ffa-4586-9278-51cafeb69b21",
   "metadata": {},
   "outputs": [],
   "source": [
    "import statsmodels.api as sm\n",
    "import statsmodels.formula.api as smf"
   ]
  },
  {
   "cell_type": "code",
   "execution_count": 37,
   "id": "3ddadfaf-5603-4459-95b2-7f3d330008d4",
   "metadata": {},
   "outputs": [],
   "source": [
    "import pickle"
   ]
  },
  {
   "cell_type": "code",
   "execution_count": 38,
   "id": "c335aaab-0b24-4876-8efe-c68504264db5",
   "metadata": {},
   "outputs": [],
   "source": [
    "#Sub sample 1: Quantile Regression Model"
   ]
  },
  {
   "cell_type": "code",
   "execution_count": 39,
   "id": "5acb6c08-2c1e-4ce7-934f-d5dde60be6bc",
   "metadata": {},
   "outputs": [],
   "source": [
    "#80 percentile"
   ]
  },
  {
   "cell_type": "code",
   "execution_count": 40,
   "id": "23fc0fc5-29a4-4e71-baaa-3cad8f59f410",
   "metadata": {},
   "outputs": [],
   "source": [
    "#Replace 'filename.pkl' with the path to your pickle file\n",
    "#with open('C:/Users/Angshudeep Majumdar/Documents/Angshudeep Lappy/Ruvision/Pickle format/Sub sample/Sub sample 1/sub1_data_train_mslp_prec.pkl', 'rb') as file:\n",
    "    #data_train = pickle.load(file)"
   ]
  },
  {
   "cell_type": "code",
   "execution_count": 628,
   "id": "c33c0c0e-9605-4fd9-b38b-b78e812f5413",
   "metadata": {},
   "outputs": [],
   "source": [
    "#Replace 'filename.pkl' with the path to your pickle file\n",
    "with open(r'C:\\Users\\Angshudeep Majumdar\\Documents\\Angshudeep Lappy\\Ruvision\\Pickle format\\Sub sample\\Sub sample 1\\sub1_data_train_G_R_1000.pkl', 'rb') as file:\n",
    "    data_train = pickle.load(file)"
   ]
  },
  {
   "cell_type": "code",
   "execution_count": 629,
   "id": "1c7941e4-62b0-4bc9-9ecc-48c0e407c7c5",
   "metadata": {},
   "outputs": [],
   "source": [
    "#data_train"
   ]
  },
  {
   "cell_type": "code",
   "execution_count": 630,
   "id": "55d00725-f469-4660-be45-4b80f6726ef0",
   "metadata": {},
   "outputs": [],
   "source": [
    "# Extract the variable at 80th quantile\n",
    "censored_data_Y_train_80p = data_train.get('censored_data_Y_train_80p')\n",
    "censored_data_X_train_80p = data_train.get('censored_data_X_train_80p')"
   ]
  },
  {
   "cell_type": "code",
   "execution_count": 631,
   "id": "413a1dc8-789b-4818-a7f0-aaa89bb341e9",
   "metadata": {},
   "outputs": [
    {
     "data": {
      "text/plain": [
       "array([[-6.08795610e+00,  8.71569244e+00, -3.77366262e+00, ...,\n",
       "        -7.24380600e-03,  2.10610710e-01, -3.24981206e-01],\n",
       "       [-5.25575130e+00,  7.46714983e+00,  9.70246193e-01, ...,\n",
       "        -2.56289597e-01,  2.56202770e-01,  1.02960002e-01],\n",
       "       [-6.68459467e+00,  4.69670733e+00,  5.32138432e+00, ...,\n",
       "        -5.45131294e-02,  4.71227694e-01, -1.24861815e-01],\n",
       "       ...,\n",
       "       [-4.38455839e+00,  7.07615445e+00,  1.99282770e-02, ...,\n",
       "         1.77575795e-01, -2.81664239e-01, -1.93543469e-01],\n",
       "       [-5.30888787e+00,  7.42898823e+00, -2.39973278e+00, ...,\n",
       "         1.80734750e-01,  1.52440686e-02, -2.12514550e-02],\n",
       "       [-5.93868924e+00,  7.55676705e+00, -2.11970871e+00, ...,\n",
       "         7.43599424e-02,  2.78431957e-01, -1.56503407e-01]])"
      ]
     },
     "execution_count": 631,
     "metadata": {},
     "output_type": "execute_result"
    }
   ],
   "source": [
    "censored_data_X_train_80p"
   ]
  },
  {
   "cell_type": "code",
   "execution_count": 632,
   "id": "65245b4b-d235-4ae3-bfdf-bfdb0edbede6",
   "metadata": {},
   "outputs": [],
   "source": [
    "# Add constant to X for intercept\n",
    "X = sm.add_constant(censored_data_X_train_80p)\n",
    "\n",
    "# Perform quantile regression at the 0.80 quantile\n",
    "model = sm.QuantReg(censored_data_Y_train_80p, X)\n",
    "quantreg_result_80 = model.fit(q=0.80, max_iter=5000)\n",
    "\n",
    "# Get the coefficients\n",
    "coefficient_80 = quantreg_result_80.params"
   ]
  },
  {
   "cell_type": "code",
   "execution_count": 633,
   "id": "a7cffad9-efc6-4b91-a5c7-09835caad20c",
   "metadata": {
    "scrolled": true
   },
   "outputs": [
    {
     "data": {
      "text/plain": [
       "(29,)"
      ]
     },
     "execution_count": 633,
     "metadata": {},
     "output_type": "execute_result"
    }
   ],
   "source": [
    "coefficient_80.shape"
   ]
  },
  {
   "cell_type": "code",
   "execution_count": 634,
   "id": "c63f4751-f60b-4103-8a90-374302c83f4b",
   "metadata": {},
   "outputs": [
    {
     "data": {
      "text/plain": [
       "array([-8.51759561,  1.37966674,  2.24734624,  0.48257901,  0.46134012,\n",
       "       -0.52229049, -1.73354226, -0.48350992, -2.48774458, -0.78913144,\n",
       "       -0.3533914 , -2.16440023, -0.65046647, -0.26977037, -2.78516453,\n",
       "        1.03347477, -0.89553848, -3.24001378, -7.50296232,  1.6323845 ,\n",
       "        4.72361687,  7.67116193,  6.70029614,  4.58258973, -1.62998461,\n",
       "       -1.68553686,  0.57208369,  6.18123544,  5.31352537])"
      ]
     },
     "execution_count": 634,
     "metadata": {},
     "output_type": "execute_result"
    }
   ],
   "source": [
    "coefficient_80"
   ]
  },
  {
   "cell_type": "code",
   "execution_count": 635,
   "id": "4fd6f12d-9fdc-4ad8-8fec-94df621eb4b8",
   "metadata": {},
   "outputs": [],
   "source": [
    "#with open(\"C:/Users/Angshudeep Majumdar/Documents/Angshudeep Lappy/Ruvision/Pickle format/Sub sample/Quantreg/quantreg_sub1_80_train_mslp_prec.pkl\", \"wb\") as f:\n",
    "    #pickle.dump(coefficient_80, f)"
   ]
  },
  {
   "cell_type": "code",
   "execution_count": 636,
   "id": "d8116f4e-300c-4b3d-84c2-fcf0a501cabe",
   "metadata": {},
   "outputs": [],
   "source": [
    "#85th percentile"
   ]
  },
  {
   "cell_type": "code",
   "execution_count": 637,
   "id": "27d7a293-3648-4640-bb74-2368c98a1523",
   "metadata": {},
   "outputs": [],
   "source": [
    "# Extract the variable at 80th quantile\n",
    "censored_data_Y_train_85p = data_train.get('censored_data_Y_train_85p')\n",
    "censored_data_X_train_85p = data_train.get('censored_data_X_train_85p')"
   ]
  },
  {
   "cell_type": "code",
   "execution_count": 638,
   "id": "2b8b50bf-12c1-4c24-8d99-fd0bfcc4c02f",
   "metadata": {},
   "outputs": [
    {
     "data": {
      "text/plain": [
       "(29,)"
      ]
     },
     "execution_count": 638,
     "metadata": {},
     "output_type": "execute_result"
    }
   ],
   "source": [
    "# Add constant to X for intercept\n",
    "X = sm.add_constant(censored_data_X_train_85p)\n",
    "\n",
    "# Perform quantile regression at the 0.80 quantile\n",
    "model = sm.QuantReg(censored_data_Y_train_85p, X)\n",
    "quantreg_result_85 = model.fit(q=0.85, max_iter=5000)\n",
    "\n",
    "# Get the coefficients\n",
    "coefficient_85 = quantreg_result_85.params\n",
    "coefficient_85.shape"
   ]
  },
  {
   "cell_type": "code",
   "execution_count": 639,
   "id": "bd184e7a-0281-4e97-ad02-e2e6288e2aef",
   "metadata": {},
   "outputs": [],
   "source": [
    "#with open(\"C:/Users/Angshudeep Majumdar/Documents/Angshudeep Lappy/Ruvision/Pickle format//Sub sample/Quantreg/quantreg_sub1_85_train_G_T_U_V_R_850.pkl\", \"wb\") as f:\n",
    "    #pickle.dump(coefficient_85, f)"
   ]
  },
  {
   "cell_type": "code",
   "execution_count": 640,
   "id": "81c86466-abd8-44aa-bec2-0df1d247a7ff",
   "metadata": {},
   "outputs": [],
   "source": [
    "#90th percentile"
   ]
  },
  {
   "cell_type": "code",
   "execution_count": 641,
   "id": "faa62d99-5fae-44fd-909d-e87491a2ceed",
   "metadata": {},
   "outputs": [],
   "source": [
    "# Extract the variable at 80th quantile\n",
    "censored_data_Y_train_90p = data_train.get('censored_data_Y_train_90p')\n",
    "censored_data_X_train_90p = data_train.get('censored_data_X_train_90p')"
   ]
  },
  {
   "cell_type": "code",
   "execution_count": 642,
   "id": "471d7b03-3595-4872-b62a-bfa1cbdceb87",
   "metadata": {},
   "outputs": [
    {
     "data": {
      "text/plain": [
       "(29,)"
      ]
     },
     "execution_count": 642,
     "metadata": {},
     "output_type": "execute_result"
    }
   ],
   "source": [
    "# Add constant to X for intercept\n",
    "X = sm.add_constant(censored_data_X_train_90p)\n",
    "\n",
    "# Perform quantile regression at the 0.80 quantile\n",
    "model = sm.QuantReg(censored_data_Y_train_90p, X)\n",
    "quantreg_result_90 = model.fit(q=0.90, max_iter=5000)\n",
    "\n",
    "# Get the coefficients\n",
    "coefficient_90 = quantreg_result_90.params\n",
    "coefficient_90.shape"
   ]
  },
  {
   "cell_type": "code",
   "execution_count": 643,
   "id": "259f23fd-6055-40a0-bb2b-66b637b5d3c3",
   "metadata": {},
   "outputs": [],
   "source": [
    "#with open(\"C:/Users/Angshudeep Majumdar/Documents/Angshudeep Lappy/Ruvision/Pickle format/Sub sample/Quantreg/quantreg_sub1_90_train_mslp_prec.pkl\", \"wb\") as f:\n",
    "    #pickle.dump(coefficient_90, f)"
   ]
  },
  {
   "cell_type": "code",
   "execution_count": 644,
   "id": "7cb8a75c-3543-45db-8254-f8020e551623",
   "metadata": {},
   "outputs": [],
   "source": [
    "#95th percentile"
   ]
  },
  {
   "cell_type": "code",
   "execution_count": 645,
   "id": "a7d8e23d-cfea-4bb0-9c06-07596fb153b7",
   "metadata": {},
   "outputs": [],
   "source": [
    "# Extract the variable at 80th quantile\n",
    "censored_data_Y_train_95p = data_train.get('censored_data_Y_train_95p')\n",
    "censored_data_X_train_95p = data_train.get('censored_data_X_train_95p')"
   ]
  },
  {
   "cell_type": "code",
   "execution_count": 646,
   "id": "29a7af8d-7c98-4e4c-bc9f-00532c1cc12e",
   "metadata": {},
   "outputs": [
    {
     "data": {
      "text/plain": [
       "(29,)"
      ]
     },
     "execution_count": 646,
     "metadata": {},
     "output_type": "execute_result"
    }
   ],
   "source": [
    "# Add constant to X for intercept\n",
    "X = sm.add_constant(censored_data_X_train_95p)\n",
    "\n",
    "# Perform quantile regression at the 0.80 quantile\n",
    "model = sm.QuantReg(censored_data_Y_train_95p, X)\n",
    "quantreg_result_95 = model.fit(q=0.95, max_iter=5000)\n",
    "\n",
    "# Get the coefficients\n",
    "coefficient_95 = quantreg_result_95.params\n",
    "coefficient_95.shape"
   ]
  },
  {
   "cell_type": "code",
   "execution_count": 647,
   "id": "c83055e5-7384-4878-9380-46b903254ca5",
   "metadata": {},
   "outputs": [],
   "source": [
    "#with open(\"C:/Users/Angshudeep Majumdar/Documents/Angshudeep Lappy/Ruvision/Pickle format/Sub sample/Quantreg/quantreg_sub1_95_train_mslp_prec.pkl\", \"wb\") as f:\n",
    "    #pickle.dump(coefficient_95, f)"
   ]
  },
  {
   "cell_type": "code",
   "execution_count": 648,
   "id": "6fe928c7-bcf9-46d1-9325-e723f607c8e2",
   "metadata": {},
   "outputs": [],
   "source": [
    "#99th percentile"
   ]
  },
  {
   "cell_type": "code",
   "execution_count": 649,
   "id": "54215762-8f05-456f-9d0e-05e3edbb5687",
   "metadata": {},
   "outputs": [],
   "source": [
    "# Extract the variable at 80th quantile\n",
    "censored_data_Y_train_99p = data_train.get('censored_data_Y_train_99p')\n",
    "censored_data_X_train_99p = data_train.get('censored_data_X_train_99p')"
   ]
  },
  {
   "cell_type": "code",
   "execution_count": 650,
   "id": "2bf60599-c212-4794-af02-2c6cfcdbc69c",
   "metadata": {},
   "outputs": [
    {
     "data": {
      "text/plain": [
       "(29,)"
      ]
     },
     "execution_count": 650,
     "metadata": {},
     "output_type": "execute_result"
    }
   ],
   "source": [
    "# Add constant to X for intercept\n",
    "X = sm.add_constant(censored_data_X_train_99p)\n",
    "\n",
    "# Perform quantile regression at the 0.80 quantile\n",
    "model = sm.QuantReg(censored_data_Y_train_99p, X)\n",
    "quantreg_result_99 = model.fit(q=0.99, max_iter=5000)\n",
    "\n",
    "# Get the coefficients\n",
    "coefficient_99 = quantreg_result_99.params\n",
    "coefficient_99.shape"
   ]
  },
  {
   "cell_type": "code",
   "execution_count": 651,
   "id": "12498034-81ff-4522-a229-ef96fcecce58",
   "metadata": {},
   "outputs": [],
   "source": [
    "#with open(\"C:/Users/Angshudeep Majumdar/Documents/Angshudeep Lappy/Ruvision/Pickle format/Sub sample/Quantreg/quantreg_sub1_99_train_mslp_prec.pkl\", \"wb\") as f:\n",
    "    #pickle.dump(coefficient_99, f)"
   ]
  },
  {
   "cell_type": "code",
   "execution_count": 652,
   "id": "810a94e5-6a99-4934-b32f-005ff5d97cca",
   "metadata": {},
   "outputs": [],
   "source": [
    "# Convert to DataFrame and save as CSV\n",
    "#coefficients_df = coefficients.to_frame(name='Coefficient')\n",
    "#coefficients_df.to_csv('quantile_regression_coefficients.csv')"
   ]
  },
  {
   "cell_type": "code",
   "execution_count": 653,
   "id": "b5a7cf9a-12d8-4b88-9f61-33d2b53b2990",
   "metadata": {},
   "outputs": [],
   "source": [
    "#print(coefficient_95)"
   ]
  },
  {
   "cell_type": "code",
   "execution_count": 654,
   "id": "d77ec7e5-971d-4ed4-b34c-7c09af17b256",
   "metadata": {},
   "outputs": [],
   "source": [
    "#Sub sample 2"
   ]
  },
  {
   "cell_type": "code",
   "execution_count": 655,
   "id": "54746016-9a46-4463-8e84-312e05af2641",
   "metadata": {},
   "outputs": [],
   "source": [
    "# Save into pickle\n",
    "with open('C:/Users/Angshudeep Majumdar/Documents/Angshudeep Lappy/Ruvision/Pickle format/Sub sample/Quantreg/quantreg_sub1_data_train_G_R_1000.pkl', 'wb') as f:\n",
    "    pickle.dump({\n",
    "        'quantreg_sub1_80_train': coefficient_80,\n",
    "        'quantreg_sub1_85_train': coefficient_85,\n",
    "        'quantreg_sub1_90_train': coefficient_90,\n",
    "        'quantreg_sub1_95_train': coefficient_95,\n",
    "        'quantreg_sub1_99_train': coefficient_99,\n",
    "    }, f)\n",
    "#Step 2: Load data from both .pkl files\n",
    "\n",
    "# Load PCA components (converted earlier from .mat)\n",
    "with open('C:/Users/Angshudeep Majumdar/Documents/Angshudeep Lappy/Ruvision/Pickle format/Sub sample/Sub sample 1/sub1_data_train_G_R_1000.pkl', 'rb') as f:\n",
    "    pca_data = pickle.load(f)"
   ]
  },
  {
   "cell_type": "code",
   "execution_count": 656,
   "id": "0398671d-ddc9-4af5-aa72-e4ba1e73e939",
   "metadata": {},
   "outputs": [],
   "source": [
    "#pca_data"
   ]
  },
  {
   "cell_type": "code",
   "execution_count": 657,
   "id": "55abcd27-c7a2-4d25-8acc-e5167b491c48",
   "metadata": {},
   "outputs": [],
   "source": [
    "#sub1_80 = pca_data['censored_data_X_train_80p']"
   ]
  },
  {
   "cell_type": "code",
   "execution_count": 658,
   "id": "724945df-60e6-4ef3-b4d6-16b628409fa3",
   "metadata": {},
   "outputs": [],
   "source": [
    "#sub1_80.shape"
   ]
  },
  {
   "cell_type": "code",
   "execution_count": 659,
   "id": "f2de4eb5-069b-402d-a6ed-b2f52976aa35",
   "metadata": {},
   "outputs": [],
   "source": [
    "# Load PCA components (converted earlier from .mat)\n",
    "#with open('C:/Users/Angshudeep Majumdar/Documents/Angshudeep Lappy/Ruvision/Pickle format/Sub sample/Sub sample 1/sub1_data_train_U10_V10_Temp_surface.pkl', 'rb') as f:\n",
    "    #pca_data = pickle.load(f)"
   ]
  },
  {
   "cell_type": "code",
   "execution_count": 660,
   "id": "0f08ebb4-5a9d-457d-a871-aecf03a0001e",
   "metadata": {},
   "outputs": [],
   "source": [
    "# Extract Sub Sample 1 data\n",
    "sub1_80 = pca_data['censored_data_X_train_80p']\n",
    "sub1_85 = pca_data['censored_data_X_train_85p']\n",
    "sub1_90 = pca_data['censored_data_X_train_90p']\n",
    "sub1_95 = pca_data['censored_data_X_train_95p']\n",
    "sub1_99 = pca_data['censored_data_X_train_99p']"
   ]
  },
  {
   "cell_type": "code",
   "execution_count": 661,
   "id": "3c588826-99e8-4f1d-9a01-70c88bab43d6",
   "metadata": {},
   "outputs": [
    {
     "data": {
      "text/plain": [
       "(972, 28)"
      ]
     },
     "execution_count": 661,
     "metadata": {},
     "output_type": "execute_result"
    }
   ],
   "source": [
    "sub1_80.shape"
   ]
  },
  {
   "cell_type": "code",
   "execution_count": 662,
   "id": "f6bfea5c-caa3-4fe4-9c86-fbdc5066630e",
   "metadata": {},
   "outputs": [
    {
     "data": {
      "text/plain": [
       "(28,)"
      ]
     },
     "execution_count": 662,
     "metadata": {},
     "output_type": "execute_result"
    }
   ],
   "source": [
    "coefficient_80[1:60].shape"
   ]
  },
  {
   "cell_type": "code",
   "execution_count": 663,
   "id": "0240307c-907a-4d1c-b808-59a19a2d64cc",
   "metadata": {},
   "outputs": [],
   "source": [
    "#Step 3: Reconstruct rain values using intercept and coefficients\n",
    "rain_80 = sub1_80@coefficient_80[1:60] + coefficient_80[0]\n",
    "rain_85 = sub1_85@coefficient_85[1:60] + coefficient_85[0]\n",
    "rain_90 = sub1_90@coefficient_90[1:60] + coefficient_90[0]\n",
    "rain_95 = sub1_95@coefficient_95[1:60] + coefficient_95[0]\n",
    "rain_99 = sub1_99@coefficient_99[1:60] + coefficient_99[0]"
   ]
  },
  {
   "cell_type": "code",
   "execution_count": 664,
   "id": "82df96a6-ab29-4755-94ec-4db571748bd7",
   "metadata": {},
   "outputs": [
    {
     "data": {
      "text/plain": [
       "(1741, 28)"
      ]
     },
     "execution_count": 664,
     "metadata": {},
     "output_type": "execute_result"
    }
   ],
   "source": [
    "sub1_99.shape"
   ]
  },
  {
   "cell_type": "code",
   "execution_count": 665,
   "id": "642e29d6-5c67-4adb-b234-b8c243a373e8",
   "metadata": {},
   "outputs": [],
   "source": [
    "# Create a boolean mask where rain1_99 > 0\n",
    "mask = rain_99 > 0  # Assuming rain1_99 is a 2D array with shape (n, 1)\n",
    "\n",
    "# Apply the mask to filter rows\n",
    "sub2_99_data_Y_train = censored_data_Y_train_99p[mask]\n",
    "sub2_99_data_X_train = censored_data_X_train_99p[mask]"
   ]
  },
  {
   "cell_type": "code",
   "execution_count": 666,
   "id": "66b49f5a-983f-4402-8f2b-5f72de83c353",
   "metadata": {},
   "outputs": [
    {
     "data": {
      "text/plain": [
       "(1393,)"
      ]
     },
     "execution_count": 666,
     "metadata": {},
     "output_type": "execute_result"
    }
   ],
   "source": [
    "sub2_99_data_Y_train.shape"
   ]
  },
  {
   "cell_type": "code",
   "execution_count": 667,
   "id": "80ffcf62-f68d-49ab-87d6-f2b5c8691522",
   "metadata": {},
   "outputs": [],
   "source": [
    "# Create a boolean mask where rain1_95 > 0\n",
    "mask = rain_95 > 0  # Assuming rain1_95 is a 2D array with shape (n, 1)\n",
    "\n",
    "# Apply the mask to filter rows\n",
    "sub2_95_data_Y_train = censored_data_Y_train_95p[mask]\n",
    "sub2_95_data_X_train = censored_data_X_train_95p[mask]"
   ]
  },
  {
   "cell_type": "code",
   "execution_count": 668,
   "id": "3bcab5a5-8bb2-49c1-91ac-62fc965ff580",
   "metadata": {},
   "outputs": [
    {
     "data": {
      "text/plain": [
       "(1231,)"
      ]
     },
     "execution_count": 668,
     "metadata": {},
     "output_type": "execute_result"
    }
   ],
   "source": [
    "sub2_95_data_Y_train.shape"
   ]
  },
  {
   "cell_type": "code",
   "execution_count": 669,
   "id": "9e476072-af3d-4179-912d-43958ed64db0",
   "metadata": {},
   "outputs": [],
   "source": [
    "# Create a boolean mask where rain1_90 > 0\n",
    "mask = rain_90 > 0  # Assuming rain1_90 is a 2D array with shape (n, 1)\n",
    "\n",
    "# Apply the mask to filter rows\n",
    "sub2_90_data_Y_train = censored_data_Y_train_90p[mask]\n",
    "sub2_90_data_X_train = censored_data_X_train_90p[mask]"
   ]
  },
  {
   "cell_type": "code",
   "execution_count": 670,
   "id": "2221374f-598f-4208-b3c8-24e1e578607e",
   "metadata": {},
   "outputs": [
    {
     "data": {
      "text/plain": [
       "(1117, 28)"
      ]
     },
     "execution_count": 670,
     "metadata": {},
     "output_type": "execute_result"
    }
   ],
   "source": [
    "sub2_90_data_X_train.shape"
   ]
  },
  {
   "cell_type": "code",
   "execution_count": 671,
   "id": "2d008823-a276-42bc-a7e6-be8142f43529",
   "metadata": {},
   "outputs": [
    {
     "data": {
      "text/plain": [
       "(1117,)"
      ]
     },
     "execution_count": 671,
     "metadata": {},
     "output_type": "execute_result"
    }
   ],
   "source": [
    "sub2_90_data_Y_train.shape"
   ]
  },
  {
   "cell_type": "code",
   "execution_count": 672,
   "id": "093cd0ba-1d5d-4f1e-bd4e-57714f093cae",
   "metadata": {},
   "outputs": [],
   "source": [
    "# Create a boolean mask where rain1_85 > 0\n",
    "mask = rain_85 > 0  # Assuming rain1_85 is a 2D array with shape (n, 1)\n",
    "\n",
    "# Apply the mask to filter rows\n",
    "sub2_85_data_Y_train = censored_data_Y_train_85p[mask]\n",
    "sub2_85_data_X_train = censored_data_X_train_85p[mask]"
   ]
  },
  {
   "cell_type": "code",
   "execution_count": 673,
   "id": "7ec2ac4e-dd53-467f-94f7-b31875cdf6b6",
   "metadata": {},
   "outputs": [
    {
     "data": {
      "text/plain": [
       "(1038, 28)"
      ]
     },
     "execution_count": 673,
     "metadata": {},
     "output_type": "execute_result"
    }
   ],
   "source": [
    "sub2_85_data_X_train.shape"
   ]
  },
  {
   "cell_type": "code",
   "execution_count": 674,
   "id": "36fce565-4cd6-447b-9d57-a06cc7868238",
   "metadata": {},
   "outputs": [],
   "source": [
    "# Create a boolean mask where rain1_80 > 0\n",
    "mask = rain_80 > 0  # Assuming rain1_80 is a 2D array with shape (n, 1)\n",
    "\n",
    "# Apply the mask to filter rows\n",
    "sub2_80_data_Y_train = censored_data_Y_train_80p[mask]\n",
    "sub2_80_data_X_train = censored_data_X_train_80p[mask]"
   ]
  },
  {
   "cell_type": "code",
   "execution_count": 675,
   "id": "a3377fb1-f6f7-45f6-a739-cb7c3d8d645b",
   "metadata": {},
   "outputs": [
    {
     "data": {
      "text/plain": [
       "(916, 28)"
      ]
     },
     "execution_count": 675,
     "metadata": {},
     "output_type": "execute_result"
    }
   ],
   "source": [
    "sub2_80_data_X_train.shape"
   ]
  },
  {
   "cell_type": "code",
   "execution_count": 676,
   "id": "a6a4cb0d-bb60-4c11-8114-0bafac0780b7",
   "metadata": {},
   "outputs": [],
   "source": [
    "# Bundle your variables into a dictionary\n",
    "data_to_save = {\n",
    "    'censored_data_Y_train_80p_subsample_2': sub2_80_data_Y_train,\n",
    "    'censored_data_X_train_80p_subsample_2': sub2_80_data_X_train,\n",
    "    'censored_data_Y_train_85p_subsample_2': sub2_85_data_Y_train,\n",
    "    'censored_data_X_train_85p_subsample_2': sub2_85_data_X_train,\n",
    "    'censored_data_Y_train_90p_subsample_2': sub2_90_data_Y_train,\n",
    "    'censored_data_X_train_90p_subsample_2': sub2_90_data_X_train,\n",
    "    'censored_data_Y_train_95p_subsample_2': sub2_95_data_Y_train,\n",
    "    'censored_data_X_train_95p_subsample_2': sub2_95_data_X_train,\n",
    "    'censored_data_Y_train_99p_subsample_2': sub2_99_data_Y_train,\n",
    "    'censored_data_X_train_99p_subsample_2': sub2_99_data_X_train\n",
    "}\n",
    "# Save to pickle\n",
    "with open(r'C:\\Users\\Angshudeep Majumdar\\Documents\\Angshudeep Lappy\\Ruvision\\Pickle format\\Sub sample\\Sub sample 2\\sub2_data_train_G_R_1000.pkl', 'wb') as f:\n",
    "    pickle.dump(data_to_save, f)"
   ]
  },
  {
   "cell_type": "code",
   "execution_count": 677,
   "id": "ed606b1b-fcdc-4a48-8d8a-258a664a1141",
   "metadata": {},
   "outputs": [],
   "source": [
    "#Sub sample 2: Quantile Regression Model"
   ]
  },
  {
   "cell_type": "code",
   "execution_count": 678,
   "id": "3ac2eb2c-fe3e-4ed4-a197-743561da6e6e",
   "metadata": {},
   "outputs": [],
   "source": [
    "#80 percentile"
   ]
  },
  {
   "cell_type": "code",
   "execution_count": 679,
   "id": "71317f3c-054d-444d-a02a-2102f5ad86b8",
   "metadata": {},
   "outputs": [],
   "source": [
    "#Replace 'filename.pkl' with the path to your pickle file\n",
    "with open(r'C:\\Users\\Angshudeep Majumdar\\Documents\\Angshudeep Lappy\\Ruvision\\Pickle format\\Sub sample\\Sub sample 2\\sub2_data_train_G_R_1000.pkl', 'rb') as file:\n",
    "    data_train = pickle.load(file)"
   ]
  },
  {
   "cell_type": "code",
   "execution_count": 680,
   "id": "b8cee69a-7166-4bba-af27-15e12c910fdd",
   "metadata": {},
   "outputs": [],
   "source": [
    "# Extract the variable at 80th quantile\n",
    "censored_data_Y_train_80p = data_train.get('censored_data_Y_train_80p_subsample_2')\n",
    "censored_data_X_train_80p = data_train.get('censored_data_X_train_80p_subsample_2')"
   ]
  },
  {
   "cell_type": "code",
   "execution_count": 681,
   "id": "3dd47a2c-7a12-4a77-a663-0f107f4779da",
   "metadata": {},
   "outputs": [
    {
     "name": "stdout",
     "output_type": "stream",
     "text": [
      "<class 'numpy.ndarray'>\n",
      "(916, 28)\n"
     ]
    }
   ],
   "source": [
    "print(type(censored_data_X_train_80p))\n",
    "print(censored_data_X_train_80p.shape)"
   ]
  },
  {
   "cell_type": "code",
   "execution_count": 682,
   "id": "d1894cf6-dfeb-41f2-8f43-72280c48ec33",
   "metadata": {},
   "outputs": [
    {
     "data": {
      "text/plain": [
       "array([[-6.08795610e+00,  8.71569244e+00, -3.77366262e+00, ...,\n",
       "        -7.24380600e-03,  2.10610710e-01, -3.24981206e-01],\n",
       "       [-5.25575130e+00,  7.46714983e+00,  9.70246193e-01, ...,\n",
       "        -2.56289597e-01,  2.56202770e-01,  1.02960002e-01],\n",
       "       [-6.68459467e+00,  4.69670733e+00,  5.32138432e+00, ...,\n",
       "        -5.45131294e-02,  4.71227694e-01, -1.24861815e-01],\n",
       "       ...,\n",
       "       [-4.38455839e+00,  7.07615445e+00,  1.99282770e-02, ...,\n",
       "         1.77575795e-01, -2.81664239e-01, -1.93543469e-01],\n",
       "       [-5.30888787e+00,  7.42898823e+00, -2.39973278e+00, ...,\n",
       "         1.80734750e-01,  1.52440686e-02, -2.12514550e-02],\n",
       "       [-5.93868924e+00,  7.55676705e+00, -2.11970871e+00, ...,\n",
       "         7.43599424e-02,  2.78431957e-01, -1.56503407e-01]])"
      ]
     },
     "execution_count": 682,
     "metadata": {},
     "output_type": "execute_result"
    }
   ],
   "source": [
    "censored_data_X_train_80p"
   ]
  },
  {
   "cell_type": "code",
   "execution_count": 683,
   "id": "10f3117e-b01e-455c-afc2-5ec5e6163358",
   "metadata": {},
   "outputs": [],
   "source": [
    "# Add constant to X for intercept\n",
    "X = sm.add_constant(censored_data_X_train_80p)\n",
    "\n",
    "# Perform quantile regression at the 0.80 quantile\n",
    "model = sm.QuantReg(censored_data_Y_train_80p, X)\n",
    "quantreg_result_80 = model.fit(q=0.80, max_iter=5000)\n",
    "\n",
    "# Get the coefficients\n",
    "coefficient_80 = quantreg_result_80.params"
   ]
  },
  {
   "cell_type": "code",
   "execution_count": 684,
   "id": "c904b179-a3be-4af8-ba7f-b4319a354b98",
   "metadata": {},
   "outputs": [
    {
     "data": {
      "text/plain": [
       "(29,)"
      ]
     },
     "execution_count": 684,
     "metadata": {},
     "output_type": "execute_result"
    }
   ],
   "source": [
    "coefficient_80.shape"
   ]
  },
  {
   "cell_type": "code",
   "execution_count": 685,
   "id": "a9baf4cc-867a-48bb-9fe2-b6f4a49ffe6e",
   "metadata": {},
   "outputs": [],
   "source": [
    "#85 percentile"
   ]
  },
  {
   "cell_type": "code",
   "execution_count": 686,
   "id": "79a3502a-c442-41f8-afd5-dba0a8443a44",
   "metadata": {},
   "outputs": [],
   "source": [
    "# Extract the variable at 80th quantile\n",
    "censored_data_Y_train_85p = data_train.get('censored_data_Y_train_85p_subsample_2')\n",
    "censored_data_X_train_85p = data_train.get('censored_data_X_train_85p_subsample_2')"
   ]
  },
  {
   "cell_type": "code",
   "execution_count": 687,
   "id": "1ad3126b-8b12-42fa-a8c1-10d52d3c2f74",
   "metadata": {},
   "outputs": [],
   "source": [
    "# Add constant to X for intercept\n",
    "X = sm.add_constant(censored_data_X_train_85p)\n",
    "\n",
    "# Perform quantile regression at the 0.80 quantile\n",
    "model = sm.QuantReg(censored_data_Y_train_85p, X)\n",
    "quantreg_result_85 = model.fit(q=0.85, max_iter=5000)\n",
    "\n",
    "# Get the coefficients\n",
    "coefficient_85 = quantreg_result_85.params"
   ]
  },
  {
   "cell_type": "code",
   "execution_count": 688,
   "id": "e30b55ee-d0cf-46c0-9da0-9c5eae2f99fe",
   "metadata": {},
   "outputs": [
    {
     "data": {
      "text/plain": [
       "(29,)"
      ]
     },
     "execution_count": 688,
     "metadata": {},
     "output_type": "execute_result"
    }
   ],
   "source": [
    "coefficient_85.shape"
   ]
  },
  {
   "cell_type": "code",
   "execution_count": 689,
   "id": "712d7884-de71-4c83-b7c2-7ea16b5d3160",
   "metadata": {},
   "outputs": [],
   "source": [
    "#90 percentile"
   ]
  },
  {
   "cell_type": "code",
   "execution_count": 690,
   "id": "8fd0ae93-0982-433b-8b32-c90ca8745292",
   "metadata": {},
   "outputs": [],
   "source": [
    "# Extract the variable at 80th quantile\n",
    "censored_data_Y_train_90p = data_train.get('censored_data_Y_train_90p_subsample_2')\n",
    "censored_data_X_train_90p = data_train.get('censored_data_X_train_90p_subsample_2')"
   ]
  },
  {
   "cell_type": "code",
   "execution_count": 691,
   "id": "8cbb7f33-93a7-4b89-9e16-c361c3bb6a65",
   "metadata": {},
   "outputs": [],
   "source": [
    "# Add constant to X for intercept\n",
    "X = sm.add_constant(censored_data_X_train_90p)\n",
    "\n",
    "# Perform quantile regression at the 0.80 quantile\n",
    "model = sm.QuantReg(censored_data_Y_train_90p, X)\n",
    "quantreg_result_90 = model.fit(q=0.90, max_iter=5000)\n",
    "\n",
    "# Get the coefficients\n",
    "coefficient_90 = quantreg_result_90.params"
   ]
  },
  {
   "cell_type": "code",
   "execution_count": 692,
   "id": "06381e34-0d02-4dae-96db-6682e11a1771",
   "metadata": {},
   "outputs": [
    {
     "data": {
      "text/plain": [
       "(29,)"
      ]
     },
     "execution_count": 692,
     "metadata": {},
     "output_type": "execute_result"
    }
   ],
   "source": [
    "coefficient_90.shape"
   ]
  },
  {
   "cell_type": "code",
   "execution_count": 693,
   "id": "76722903-876e-4f24-8b0c-f122fd70ec78",
   "metadata": {},
   "outputs": [],
   "source": [
    "#95 percentile"
   ]
  },
  {
   "cell_type": "code",
   "execution_count": 694,
   "id": "7c6534ee-a9ab-4b21-8048-335802d51aca",
   "metadata": {},
   "outputs": [],
   "source": [
    "# Extract the variable at 80th quantile\n",
    "censored_data_Y_train_95p = data_train.get('censored_data_Y_train_95p_subsample_2')\n",
    "censored_data_X_train_95p = data_train.get('censored_data_X_train_95p_subsample_2')"
   ]
  },
  {
   "cell_type": "code",
   "execution_count": 695,
   "id": "aa0343bc-7ca9-4ab3-947d-46a5b49ce2d5",
   "metadata": {},
   "outputs": [],
   "source": [
    "# Add constant to X for intercept\n",
    "X = sm.add_constant(censored_data_X_train_95p)\n",
    "\n",
    "# Perform quantile regression at the 0.80 quantile\n",
    "model = sm.QuantReg(censored_data_Y_train_95p, X)\n",
    "quantreg_result_95 = model.fit(q=0.95, max_iter=5000)\n",
    "\n",
    "# Get the coefficients\n",
    "coefficient_95 = quantreg_result_95.params"
   ]
  },
  {
   "cell_type": "code",
   "execution_count": 696,
   "id": "2e03aa01-9ddc-4803-b3a9-dce03dae25e0",
   "metadata": {},
   "outputs": [
    {
     "data": {
      "text/plain": [
       "(29,)"
      ]
     },
     "execution_count": 696,
     "metadata": {},
     "output_type": "execute_result"
    }
   ],
   "source": [
    "coefficient_95.shape"
   ]
  },
  {
   "cell_type": "code",
   "execution_count": 697,
   "id": "2fa5ac67-e6c3-4fe2-93f9-12c9172936c8",
   "metadata": {},
   "outputs": [],
   "source": [
    "#99 percentile"
   ]
  },
  {
   "cell_type": "code",
   "execution_count": 698,
   "id": "8e14d4e0-36af-4324-b38f-6f669b79d9f1",
   "metadata": {},
   "outputs": [],
   "source": [
    "# Extract the variable at 80th quantile\n",
    "censored_data_Y_train_99p = data_train.get('censored_data_Y_train_99p_subsample_2')\n",
    "censored_data_X_train_99p = data_train.get('censored_data_X_train_99p_subsample_2')"
   ]
  },
  {
   "cell_type": "code",
   "execution_count": 699,
   "id": "477c6819-5db2-4561-ab8b-6cb4df902cb8",
   "metadata": {},
   "outputs": [],
   "source": [
    "# Add constant to X for intercept\n",
    "X = sm.add_constant(censored_data_X_train_99p)\n",
    "\n",
    "# Perform quantile regression at the 0.80 quantile\n",
    "model = sm.QuantReg(censored_data_Y_train_99p, X)\n",
    "quantreg_result_99 = model.fit(q=0.99, max_iter=5000)\n",
    "\n",
    "# Get the coefficients\n",
    "coefficient_99 = quantreg_result_99.params"
   ]
  },
  {
   "cell_type": "code",
   "execution_count": 700,
   "id": "e13b4e66-a730-4dc8-b057-551b265af1b4",
   "metadata": {},
   "outputs": [
    {
     "data": {
      "text/plain": [
       "(29,)"
      ]
     },
     "execution_count": 700,
     "metadata": {},
     "output_type": "execute_result"
    }
   ],
   "source": [
    "coefficient_99.shape"
   ]
  },
  {
   "cell_type": "code",
   "execution_count": 701,
   "id": "aa9e278a-c360-455e-af6c-9697fe4f7759",
   "metadata": {},
   "outputs": [],
   "source": [
    "# Save into pickle\n",
    "with open('C:/Users/Angshudeep Majumdar/Documents/Angshudeep Lappy/Ruvision/Pickle format/Sub sample/Quantreg/quantreg_sub2_data_train_G_R_1000.pkl', 'wb') as f:\n",
    "    pickle.dump({\n",
    "        'quantreg_sub2_80_train': coefficient_80,\n",
    "        'quantreg_sub2_85_train': coefficient_85,\n",
    "        'quantreg_sub2_90_train': coefficient_90,\n",
    "        'quantreg_sub2_95_train': coefficient_95,\n",
    "        'quantreg_sub2_99_train': coefficient_99,\n",
    "    }, f)"
   ]
  },
  {
   "cell_type": "code",
   "execution_count": 703,
   "id": "58b4e546-0a42-4150-8f49-02389392d05d",
   "metadata": {},
   "outputs": [],
   "source": [
    "#Replace 'filename.pkl' with the path to your pickle file\n",
    "with open('C:/Users/Angshudeep Majumdar/Documents/Angshudeep Lappy/Ruvision/Pickle format/transformed_dataX_G_R_1000.pkl', 'rb') as file:\n",
    "    data_X = pickle.load(file)"
   ]
  },
  {
   "cell_type": "code",
   "execution_count": 704,
   "id": "18717948-9b9f-4850-b2c4-fe5f087ea533",
   "metadata": {},
   "outputs": [],
   "source": [
    "#Replace 'filename.pkl' with the path to your pickle file\n",
    "#with open('C:/Users/Angshudeep Majumdar/Downloads/data_X.pkl', 'rb') as file:\n",
    "    #data_X = pickle.load(file)"
   ]
  },
  {
   "cell_type": "code",
   "execution_count": 705,
   "id": "1c252cf9-c2e6-429a-ba7b-5293286dc88c",
   "metadata": {},
   "outputs": [
    {
     "data": {
      "text/plain": [
       "(3653, 28)"
      ]
     },
     "execution_count": 705,
     "metadata": {},
     "output_type": "execute_result"
    }
   ],
   "source": [
    "data_X.shape"
   ]
  },
  {
   "cell_type": "code",
   "execution_count": 706,
   "id": "556e8291-1fdf-4493-9226-ab92f31fdc11",
   "metadata": {},
   "outputs": [
    {
     "data": {
      "text/plain": [
       "(29,)"
      ]
     },
     "execution_count": 706,
     "metadata": {},
     "output_type": "execute_result"
    }
   ],
   "source": [
    "coefficient_99.shape"
   ]
  },
  {
   "cell_type": "code",
   "execution_count": 707,
   "id": "39b2d727-3ed9-4af8-89e0-e4d1812b24a2",
   "metadata": {},
   "outputs": [],
   "source": [
    "#Step 3: Reconstruct rain values using intercept and coefficients\n",
    "rain_80 = data_X@coefficient_80[1:60] + coefficient_80[0]\n",
    "rain_85 = data_X@coefficient_85[1:60] + coefficient_85[0]\n",
    "rain_90 = data_X@coefficient_90[1:60] + coefficient_90[0]\n",
    "rain_95 = data_X@coefficient_95[1:60] + coefficient_95[0]\n",
    "rain_99 = data_X@coefficient_99[1:60] + coefficient_99[0]"
   ]
  },
  {
   "cell_type": "code",
   "execution_count": 708,
   "id": "3f4bb99c-e653-4929-95d6-57a71cbaab9b",
   "metadata": {},
   "outputs": [],
   "source": [
    "rain_80_abovezero = np.maximum(rain_80, 0)\n",
    "rain_85_abovezero = np.maximum(rain_85, 0)\n",
    "rain_90_abovezero = np.maximum(rain_90, 0)\n",
    "rain_95_abovezero = np.maximum(rain_95, 0)\n",
    "rain_99_abovezero = np.maximum(rain_99, 0)"
   ]
  },
  {
   "cell_type": "code",
   "execution_count": 709,
   "id": "b0ea7c37-6d22-4276-833d-807ba84c0dc6",
   "metadata": {},
   "outputs": [
    {
     "data": {
      "text/plain": [
       "DateTime\n",
       "2015-01-01    8.229985\n",
       "2015-01-02    2.414228\n",
       "2015-01-03    0.000000\n",
       "2015-01-04    0.000000\n",
       "2015-01-05    0.000000\n",
       "                ...   \n",
       "2024-12-27    0.000000\n",
       "2024-12-28    0.000000\n",
       "2024-12-29    0.000000\n",
       "2024-12-30    1.093359\n",
       "2024-12-31    0.000000\n",
       "Length: 3653, dtype: float64"
      ]
     },
     "execution_count": 709,
     "metadata": {},
     "output_type": "execute_result"
    }
   ],
   "source": [
    "rain_80_abovezero"
   ]
  },
  {
   "cell_type": "code",
   "execution_count": 710,
   "id": "f20cc308-f29c-44ce-bb99-6a7b9ff83453",
   "metadata": {},
   "outputs": [],
   "source": [
    "with open('C:/Users/Angshudeep Majumdar/Documents/Angshudeep Lappy/Ruvision/Pickle format/Obs_test.pkl', 'rb') as f:\n",
    "    obs_test_data = pickle.load(f)"
   ]
  },
  {
   "cell_type": "code",
   "execution_count": 711,
   "id": "de7198e2-a5ff-40a1-90bb-eb3882c3b44b",
   "metadata": {},
   "outputs": [
    {
     "data": {
      "text/plain": [
       "DateTime\n",
       "2024-01-01    0.00000\n",
       "2024-01-02    0.00000\n",
       "2024-01-03    0.00000\n",
       "2024-01-04    0.00000\n",
       "2024-01-05    0.00000\n",
       "               ...   \n",
       "2024-12-27    0.17748\n",
       "2024-12-28    0.00000\n",
       "2024-12-29    0.00000\n",
       "2024-12-30    0.00000\n",
       "2024-12-31    0.00000\n",
       "Name: Prec_23.0_72.5, Length: 366, dtype: float64"
      ]
     },
     "execution_count": 711,
     "metadata": {},
     "output_type": "execute_result"
    }
   ],
   "source": [
    "obs_test_data"
   ]
  },
  {
   "cell_type": "code",
   "execution_count": 712,
   "id": "d2bbe87a-273c-4022-af5c-66d252112512",
   "metadata": {},
   "outputs": [],
   "source": [
    "# Ensure datetime index is parsed correctly\n",
    "obs_test_data.index = pd.to_datetime(obs_test_data.index)\n",
    "\n",
    "# Filter only for June, July, August, and September\n",
    "obs_test_data_jjas = obs_test_data[obs_test_data.index.month.isin([6, 7, 8, 9])]"
   ]
  },
  {
   "cell_type": "code",
   "execution_count": 713,
   "id": "3df82070-2a3c-4c49-a84f-f1cc7eb47615",
   "metadata": {},
   "outputs": [
    {
     "data": {
      "text/plain": [
       "DateTime\n",
       "2024-06-01     0.000000\n",
       "2024-06-02     0.000000\n",
       "2024-06-03     0.000000\n",
       "2024-06-04     0.000000\n",
       "2024-06-05     0.000000\n",
       "                ...    \n",
       "2024-09-26     6.544021\n",
       "2024-09-27    12.412517\n",
       "2024-09-28    18.411810\n",
       "2024-09-29     1.689879\n",
       "2024-09-30     4.658721\n",
       "Name: Prec_23.0_72.5, Length: 122, dtype: float64"
      ]
     },
     "execution_count": 713,
     "metadata": {},
     "output_type": "execute_result"
    }
   ],
   "source": [
    "obs_test_data_jjas"
   ]
  },
  {
   "cell_type": "code",
   "execution_count": 714,
   "id": "77c06f4b-5f40-46cd-a92d-93e8107c0d87",
   "metadata": {},
   "outputs": [],
   "source": [
    "rain_80_abovezero_test=rain_80_abovezero.iloc[3287:]\n",
    "rain_85_abovezero_test=rain_85_abovezero.iloc[3287:]\n",
    "rain_90_abovezero_test=rain_90_abovezero.iloc[3287:]\n",
    "rain_95_abovezero_test=rain_95_abovezero.iloc[3287:]\n",
    "rain_99_abovezero_test=rain_99_abovezero.iloc[3287:]"
   ]
  },
  {
   "cell_type": "code",
   "execution_count": 715,
   "id": "7758e42f-7b33-405a-84e3-7b8586d936f4",
   "metadata": {},
   "outputs": [
    {
     "data": {
      "text/plain": [
       "DateTime\n",
       "2024-01-01    1.542560\n",
       "2024-01-02    0.000000\n",
       "2024-01-03    0.000000\n",
       "2024-01-04    0.000000\n",
       "2024-01-05    0.000000\n",
       "                ...   \n",
       "2024-12-27    0.000000\n",
       "2024-12-28    0.000000\n",
       "2024-12-29    0.000000\n",
       "2024-12-30    1.093359\n",
       "2024-12-31    0.000000\n",
       "Length: 366, dtype: float64"
      ]
     },
     "execution_count": 715,
     "metadata": {},
     "output_type": "execute_result"
    }
   ],
   "source": [
    "rain_80_abovezero_test"
   ]
  },
  {
   "cell_type": "code",
   "execution_count": 716,
   "id": "c3f9f79c-297e-4aef-b6f1-b5a8eb17d53d",
   "metadata": {},
   "outputs": [],
   "source": [
    "# Ensure datetime index is parsed correctly\n",
    "#rain_80_abovezero_test.index = pd.to_datetime(rain_80_abovezero_test.index)\n",
    "\n",
    "# Filter only for June, July, August, and September\n",
    "rain_80_abovezero_test_jjas = rain_80_abovezero_test[rain_80_abovezero_test.index.month.isin([6, 7, 8, 9])]"
   ]
  },
  {
   "cell_type": "code",
   "execution_count": 717,
   "id": "6bd0db4c-854d-46e9-a956-69b163f67160",
   "metadata": {},
   "outputs": [
    {
     "data": {
      "text/plain": [
       "(122,)"
      ]
     },
     "execution_count": 717,
     "metadata": {},
     "output_type": "execute_result"
    }
   ],
   "source": [
    "rain_80_abovezero_test_jjas.shape"
   ]
  },
  {
   "cell_type": "code",
   "execution_count": 718,
   "id": "6a05fbbf-1243-4ad4-841d-84df2ab47daf",
   "metadata": {},
   "outputs": [],
   "source": [
    "# Ensure datetime index is parsed correctly\n",
    "rain_85_abovezero_test.index = pd.to_datetime(rain_85_abovezero_test.index)\n",
    "\n",
    "# Filter only for June, July, August, and September\n",
    "rain_85_abovezero_test_jjas = rain_85_abovezero_test[rain_85_abovezero_test.index.month.isin([6, 7, 8, 9])]"
   ]
  },
  {
   "cell_type": "code",
   "execution_count": 719,
   "id": "16e740fd-4f69-4a83-82ba-03274e223703",
   "metadata": {},
   "outputs": [],
   "source": [
    "# Ensure datetime index is parsed correctly\n",
    "rain_90_abovezero_test.index = pd.to_datetime(rain_90_abovezero_test.index)\n",
    "\n",
    "# Filter only for June, July, August, and September\n",
    "rain_90_abovezero_test_jjas = rain_90_abovezero_test[rain_90_abovezero_test.index.month.isin([6, 7, 8, 9])]"
   ]
  },
  {
   "cell_type": "code",
   "execution_count": 720,
   "id": "0babaafe-018d-40e1-989c-512f084d2a82",
   "metadata": {},
   "outputs": [],
   "source": [
    "# Ensure datetime index is parsed correctly\n",
    "rain_95_abovezero_test.index = pd.to_datetime(rain_95_abovezero_test.index)\n",
    "\n",
    "# Filter only for June, July, August, and September\n",
    "rain_95_abovezero_test_jjas = rain_95_abovezero_test[rain_95_abovezero_test.index.month.isin([6, 7, 8, 9])]"
   ]
  },
  {
   "cell_type": "code",
   "execution_count": 721,
   "id": "9f36398e-b1d7-4345-b4e4-bd54abc3d69a",
   "metadata": {},
   "outputs": [],
   "source": [
    "# Ensure datetime index is parsed correctly\n",
    "rain_99_abovezero_test.index = pd.to_datetime(rain_99_abovezero_test.index)\n",
    "\n",
    "# Filter only for June, July, August, and September\n",
    "rain_99_abovezero_test_jjas = rain_99_abovezero_test[rain_99_abovezero_test.index.month.isin([6, 7, 8, 9])]"
   ]
  },
  {
   "cell_type": "code",
   "execution_count": 722,
   "id": "69fe416a-4a0f-42dd-8d24-c4900d954c1b",
   "metadata": {},
   "outputs": [
    {
     "data": {
      "image/png": "[encoded data removed]",
      "text/plain": [
       "<Figure size 2500x500 with 5 Axes>"
      ]
     },
     "metadata": {},
     "output_type": "display_data"
    }
   ],
   "source": [
    "import numpy as np\n",
    "import matplotlib.pyplot as plt\n",
    "from sklearn.metrics import mean_squared_error\n",
    "from scipy.stats import pearsonr\n",
    "\n",
    "# Observed data\n",
    "observed_values = np.array(obs_test_data_jjas)\n",
    "time_steps = obs_test_data_jjas.index\n",
    "\n",
    "# Predicted values per quantile\n",
    "quantiles_to_plot = [0.8, 0.85, 0.9, 0.95, 0.99]\n",
    "predicted_data = [\n",
    "    rain_80_abovezero_test_jjas,\n",
    "    rain_85_abovezero_test_jjas,\n",
    "    rain_90_abovezero_test_jjas,\n",
    "    rain_95_abovezero_test_jjas,\n",
    "    rain_99_abovezero_test_jjas,\n",
    "]\n",
    "\n",
    "# Create subplots\n",
    "fig, axs = plt.subplots(1, 5, figsize=(25, 5), sharey=True)\n",
    "\n",
    "# Store evaluation metrics\n",
    "rmse_values = []\n",
    "correlation_values = []\n",
    "\n",
    "for i, (quantile, predicted_series) in enumerate(zip(quantiles_to_plot, predicted_data)):\n",
    "    predicted_values = np.array(predicted_series)\n",
    "\n",
    "    # Calculate metrics\n",
    "    r, _ = pearsonr(observed_values, predicted_values)\n",
    "    rmse = np.sqrt(mean_squared_error(observed_values, predicted_values))\n",
    "    correlation_values.append(r)\n",
    "    rmse_values.append(rmse)\n",
    "\n",
    "    # Plot observed and predicted values\n",
    "    axs[i].plot(observed_values, label='Observed', color='blue', linewidth=2.5)\n",
    "    axs[i].plot(predicted_values, label=f'Quantile {quantile}', color='red', linewidth=2.5)\n",
    "    axs[i].set_title(f'Prediction_G_R_1000_CQM Method, Q={quantile}\\nr={r:.2f}, RMSE={rmse:.2f}', fontsize=12)\n",
    "    axs[i].set_xlabel('Time Steps', fontsize=12)\n",
    "    axs[i].tick_params(axis='x', rotation=90)\n",
    "\n",
    "    # Custom x-ticks (assumes datetime index)\n",
    "    tick_indices = range(0, len(time_steps), 20)\n",
    "    axs[i].set_xticks(tick_indices)\n",
    "    axs[i].set_xticklabels(time_steps[tick_indices].strftime('%b %d'), fontsize=10)\n",
    "\n",
    "    # Add legend to each subplot\n",
    "    axs[i].legend(fontsize=10)\n",
    "\n",
    "# Common Y-axis label\n",
    "axs[0].set_ylabel('Rainfall (mm)', fontsize=12)\n",
    "\n",
    "# Save and show plot\n",
    "plt.tight_layout()\n",
    "plt.savefig(r'C:\\Users\\Angshudeep Majumdar\\Documents\\Angshudeep Lappy\\Ruvision\\Model Plots\\G_R_1000\\quantreg_G_R_1000.png', dpi=300, bbox_inches='tight')\n",
    "plt.show()\n"
   ]
  },
  {
   "cell_type": "code",
   "execution_count": 723,
   "id": "8e5b90ff-ebac-45f2-b9fc-38ee6c5392c9",
   "metadata": {},
   "outputs": [],
   "source": [
    "data_X_test= data_X.iloc[3287:, :]"
   ]
  },
  {
   "cell_type": "code",
   "execution_count": 724,
   "id": "324d840b-c72e-46dd-a167-f493fe938423",
   "metadata": {},
   "outputs": [
    {
     "data": {
      "text/html": [
       "<div>\n",
       "<style scoped>\n",
       "    .dataframe tbody tr th:only-of-type {\n",
       "        vertical-align: middle;\n",
       "    }\n",
       "\n",
       "    .dataframe tbody tr th {\n",
       "        vertical-align: top;\n",
       "    }\n",
       "\n",
       "    .dataframe thead th {\n",
       "        text-align: right;\n",
       "    }\n",
       "</style>\n",
       "<table border=\"1\" class=\"dataframe\">\n",
       "  <thead>\n",
       "    <tr style=\"text-align: right;\">\n",
       "      <th></th>\n",
       "      <th>0</th>\n",
       "      <th>1</th>\n",
       "      <th>2</th>\n",
       "      <th>3</th>\n",
       "      <th>4</th>\n",
       "      <th>5</th>\n",
       "      <th>6</th>\n",
       "      <th>7</th>\n",
       "      <th>8</th>\n",
       "      <th>9</th>\n",
       "      <th>...</th>\n",
       "      <th>18</th>\n",
       "      <th>19</th>\n",
       "      <th>20</th>\n",
       "      <th>21</th>\n",
       "      <th>22</th>\n",
       "      <th>23</th>\n",
       "      <th>24</th>\n",
       "      <th>25</th>\n",
       "      <th>26</th>\n",
       "      <th>27</th>\n",
       "    </tr>\n",
       "    <tr>\n",
       "      <th>DateTime</th>\n",
       "      <th></th>\n",
       "      <th></th>\n",
       "      <th></th>\n",
       "      <th></th>\n",
       "      <th></th>\n",
       "      <th></th>\n",
       "      <th></th>\n",
       "      <th></th>\n",
       "      <th></th>\n",
       "      <th></th>\n",
       "      <th></th>\n",
       "      <th></th>\n",
       "      <th></th>\n",
       "      <th></th>\n",
       "      <th></th>\n",
       "      <th></th>\n",
       "      <th></th>\n",
       "      <th></th>\n",
       "      <th></th>\n",
       "      <th></th>\n",
       "      <th></th>\n",
       "    </tr>\n",
       "  </thead>\n",
       "  <tbody>\n",
       "    <tr>\n",
       "      <th>2024-01-01</th>\n",
       "      <td>-7.247980</td>\n",
       "      <td>5.620493</td>\n",
       "      <td>1.119887</td>\n",
       "      <td>0.133345</td>\n",
       "      <td>-0.000201</td>\n",
       "      <td>-0.516790</td>\n",
       "      <td>0.792833</td>\n",
       "      <td>-1.039128</td>\n",
       "      <td>-1.350098</td>\n",
       "      <td>0.652120</td>\n",
       "      <td>...</td>\n",
       "      <td>0.015406</td>\n",
       "      <td>0.411397</td>\n",
       "      <td>0.041754</td>\n",
       "      <td>0.549005</td>\n",
       "      <td>-0.124738</td>\n",
       "      <td>-0.388016</td>\n",
       "      <td>0.087424</td>\n",
       "      <td>-0.090689</td>\n",
       "      <td>0.116595</td>\n",
       "      <td>-0.159834</td>\n",
       "    </tr>\n",
       "    <tr>\n",
       "      <th>2024-01-02</th>\n",
       "      <td>-6.510819</td>\n",
       "      <td>5.507270</td>\n",
       "      <td>0.719676</td>\n",
       "      <td>1.483687</td>\n",
       "      <td>-0.081155</td>\n",
       "      <td>0.321463</td>\n",
       "      <td>-0.112558</td>\n",
       "      <td>-1.111311</td>\n",
       "      <td>-1.775292</td>\n",
       "      <td>0.715140</td>\n",
       "      <td>...</td>\n",
       "      <td>0.185097</td>\n",
       "      <td>-0.091170</td>\n",
       "      <td>0.158797</td>\n",
       "      <td>0.115913</td>\n",
       "      <td>0.026232</td>\n",
       "      <td>-0.018913</td>\n",
       "      <td>0.134730</td>\n",
       "      <td>0.291542</td>\n",
       "      <td>0.094337</td>\n",
       "      <td>-0.381403</td>\n",
       "    </tr>\n",
       "    <tr>\n",
       "      <th>2024-01-03</th>\n",
       "      <td>-6.195252</td>\n",
       "      <td>5.602711</td>\n",
       "      <td>0.030837</td>\n",
       "      <td>2.379180</td>\n",
       "      <td>-0.664850</td>\n",
       "      <td>0.983601</td>\n",
       "      <td>-0.672488</td>\n",
       "      <td>-0.965040</td>\n",
       "      <td>-1.624834</td>\n",
       "      <td>0.866089</td>\n",
       "      <td>...</td>\n",
       "      <td>-0.156207</td>\n",
       "      <td>0.299149</td>\n",
       "      <td>-0.245832</td>\n",
       "      <td>-0.018099</td>\n",
       "      <td>-0.416507</td>\n",
       "      <td>-0.113527</td>\n",
       "      <td>-0.211673</td>\n",
       "      <td>0.044229</td>\n",
       "      <td>0.294657</td>\n",
       "      <td>-0.559319</td>\n",
       "    </tr>\n",
       "    <tr>\n",
       "      <th>2024-01-04</th>\n",
       "      <td>-7.621121</td>\n",
       "      <td>5.702146</td>\n",
       "      <td>-0.321479</td>\n",
       "      <td>2.793284</td>\n",
       "      <td>-0.058536</td>\n",
       "      <td>0.419399</td>\n",
       "      <td>-1.499525</td>\n",
       "      <td>-0.114734</td>\n",
       "      <td>-0.825589</td>\n",
       "      <td>1.010039</td>\n",
       "      <td>...</td>\n",
       "      <td>-0.320527</td>\n",
       "      <td>-0.053148</td>\n",
       "      <td>-0.109389</td>\n",
       "      <td>-0.131369</td>\n",
       "      <td>-0.368148</td>\n",
       "      <td>-0.297717</td>\n",
       "      <td>-0.013685</td>\n",
       "      <td>0.038506</td>\n",
       "      <td>0.349471</td>\n",
       "      <td>-0.400512</td>\n",
       "    </tr>\n",
       "    <tr>\n",
       "      <th>2024-01-05</th>\n",
       "      <td>-8.356291</td>\n",
       "      <td>5.889126</td>\n",
       "      <td>-0.747882</td>\n",
       "      <td>2.691263</td>\n",
       "      <td>-0.221081</td>\n",
       "      <td>0.520788</td>\n",
       "      <td>-1.189203</td>\n",
       "      <td>-0.453446</td>\n",
       "      <td>-0.818622</td>\n",
       "      <td>0.916491</td>\n",
       "      <td>...</td>\n",
       "      <td>-0.260124</td>\n",
       "      <td>-0.100482</td>\n",
       "      <td>-0.064304</td>\n",
       "      <td>-0.239933</td>\n",
       "      <td>-0.111817</td>\n",
       "      <td>-0.568544</td>\n",
       "      <td>0.124682</td>\n",
       "      <td>0.378179</td>\n",
       "      <td>0.337877</td>\n",
       "      <td>-0.444334</td>\n",
       "    </tr>\n",
       "    <tr>\n",
       "      <th>...</th>\n",
       "      <td>...</td>\n",
       "      <td>...</td>\n",
       "      <td>...</td>\n",
       "      <td>...</td>\n",
       "      <td>...</td>\n",
       "      <td>...</td>\n",
       "      <td>...</td>\n",
       "      <td>...</td>\n",
       "      <td>...</td>\n",
       "      <td>...</td>\n",
       "      <td>...</td>\n",
       "      <td>...</td>\n",
       "      <td>...</td>\n",
       "      <td>...</td>\n",
       "      <td>...</td>\n",
       "      <td>...</td>\n",
       "      <td>...</td>\n",
       "      <td>...</td>\n",
       "      <td>...</td>\n",
       "      <td>...</td>\n",
       "      <td>...</td>\n",
       "    </tr>\n",
       "    <tr>\n",
       "      <th>2024-12-27</th>\n",
       "      <td>-9.532470</td>\n",
       "      <td>8.929383</td>\n",
       "      <td>0.560328</td>\n",
       "      <td>-1.254296</td>\n",
       "      <td>3.204519</td>\n",
       "      <td>-0.502932</td>\n",
       "      <td>-0.192384</td>\n",
       "      <td>-0.662044</td>\n",
       "      <td>0.123202</td>\n",
       "      <td>1.083813</td>\n",
       "      <td>...</td>\n",
       "      <td>0.234849</td>\n",
       "      <td>0.204879</td>\n",
       "      <td>-0.105586</td>\n",
       "      <td>-0.025967</td>\n",
       "      <td>-0.221911</td>\n",
       "      <td>-0.221749</td>\n",
       "      <td>-0.449341</td>\n",
       "      <td>0.419807</td>\n",
       "      <td>0.418653</td>\n",
       "      <td>-0.251681</td>\n",
       "    </tr>\n",
       "    <tr>\n",
       "      <th>2024-12-28</th>\n",
       "      <td>-11.829470</td>\n",
       "      <td>8.703490</td>\n",
       "      <td>-1.617933</td>\n",
       "      <td>-1.552918</td>\n",
       "      <td>2.635960</td>\n",
       "      <td>0.541472</td>\n",
       "      <td>0.217765</td>\n",
       "      <td>-0.340708</td>\n",
       "      <td>-0.308158</td>\n",
       "      <td>1.443098</td>\n",
       "      <td>...</td>\n",
       "      <td>-0.353340</td>\n",
       "      <td>0.344229</td>\n",
       "      <td>-0.295090</td>\n",
       "      <td>-0.431258</td>\n",
       "      <td>0.168587</td>\n",
       "      <td>0.088222</td>\n",
       "      <td>-0.054676</td>\n",
       "      <td>-0.074072</td>\n",
       "      <td>0.103093</td>\n",
       "      <td>0.044565</td>\n",
       "    </tr>\n",
       "    <tr>\n",
       "      <th>2024-12-29</th>\n",
       "      <td>-11.786247</td>\n",
       "      <td>7.543507</td>\n",
       "      <td>-0.549961</td>\n",
       "      <td>-1.848532</td>\n",
       "      <td>2.658871</td>\n",
       "      <td>0.521559</td>\n",
       "      <td>0.422436</td>\n",
       "      <td>-0.511940</td>\n",
       "      <td>-0.463566</td>\n",
       "      <td>0.244848</td>\n",
       "      <td>...</td>\n",
       "      <td>-0.732007</td>\n",
       "      <td>0.114330</td>\n",
       "      <td>0.148766</td>\n",
       "      <td>-0.215869</td>\n",
       "      <td>0.374394</td>\n",
       "      <td>0.177692</td>\n",
       "      <td>0.367819</td>\n",
       "      <td>0.349290</td>\n",
       "      <td>0.196180</td>\n",
       "      <td>-0.109168</td>\n",
       "    </tr>\n",
       "    <tr>\n",
       "      <th>2024-12-30</th>\n",
       "      <td>-8.630448</td>\n",
       "      <td>5.854770</td>\n",
       "      <td>2.800274</td>\n",
       "      <td>-3.229754</td>\n",
       "      <td>1.394159</td>\n",
       "      <td>0.058397</td>\n",
       "      <td>0.378040</td>\n",
       "      <td>-0.362144</td>\n",
       "      <td>-0.558499</td>\n",
       "      <td>-0.397031</td>\n",
       "      <td>...</td>\n",
       "      <td>-0.550189</td>\n",
       "      <td>-0.074130</td>\n",
       "      <td>0.222243</td>\n",
       "      <td>-0.073196</td>\n",
       "      <td>0.623630</td>\n",
       "      <td>0.098062</td>\n",
       "      <td>0.301505</td>\n",
       "      <td>0.112061</td>\n",
       "      <td>0.139501</td>\n",
       "      <td>0.018309</td>\n",
       "    </tr>\n",
       "    <tr>\n",
       "      <th>2024-12-31</th>\n",
       "      <td>-8.612758</td>\n",
       "      <td>5.084843</td>\n",
       "      <td>3.487435</td>\n",
       "      <td>-3.642944</td>\n",
       "      <td>-0.890954</td>\n",
       "      <td>0.395133</td>\n",
       "      <td>0.268157</td>\n",
       "      <td>-0.214020</td>\n",
       "      <td>-1.353104</td>\n",
       "      <td>-0.231894</td>\n",
       "      <td>...</td>\n",
       "      <td>-0.351352</td>\n",
       "      <td>0.155090</td>\n",
       "      <td>0.323991</td>\n",
       "      <td>-0.076539</td>\n",
       "      <td>0.551062</td>\n",
       "      <td>0.033381</td>\n",
       "      <td>0.165367</td>\n",
       "      <td>0.008529</td>\n",
       "      <td>-0.096624</td>\n",
       "      <td>-0.266922</td>\n",
       "    </tr>\n",
       "  </tbody>\n",
       "</table>\n",
       "<p>366 rows × 28 columns</p>\n",
       "</div>"
      ],
      "text/plain": [
       "                   0         1         2         3         4         5   \\\n",
       "DateTime                                                                  \n",
       "2024-01-01  -7.247980  5.620493  1.119887  0.133345 -0.000201 -0.516790   \n",
       "2024-01-02  -6.510819  5.507270  0.719676  1.483687 -0.081155  0.321463   \n",
       "2024-01-03  -6.195252  5.602711  0.030837  2.379180 -0.664850  0.983601   \n",
       "2024-01-04  -7.621121  5.702146 -0.321479  2.793284 -0.058536  0.419399   \n",
       "2024-01-05  -8.356291  5.889126 -0.747882  2.691263 -0.221081  0.520788   \n",
       "...               ...       ...       ...       ...       ...       ...   \n",
       "2024-12-27  -9.532470  8.929383  0.560328 -1.254296  3.204519 -0.502932   \n",
       "2024-12-28 -11.829470  8.703490 -1.617933 -1.552918  2.635960  0.541472   \n",
       "2024-12-29 -11.786247  7.543507 -0.549961 -1.848532  2.658871  0.521559   \n",
       "2024-12-30  -8.630448  5.854770  2.800274 -3.229754  1.394159  0.058397   \n",
       "2024-12-31  -8.612758  5.084843  3.487435 -3.642944 -0.890954  0.395133   \n",
       "\n",
       "                  6         7         8         9   ...        18        19  \\\n",
       "DateTime                                            ...                       \n",
       "2024-01-01  0.792833 -1.039128 -1.350098  0.652120  ...  0.015406  0.411397   \n",
       "2024-01-02 -0.112558 -1.111311 -1.775292  0.715140  ...  0.185097 -0.091170   \n",
       "2024-01-03 -0.672488 -0.965040 -1.624834  0.866089  ... -0.156207  0.299149   \n",
       "2024-01-04 -1.499525 -0.114734 -0.825589  1.010039  ... -0.320527 -0.053148   \n",
       "2024-01-05 -1.189203 -0.453446 -0.818622  0.916491  ... -0.260124 -0.100482   \n",
       "...              ...       ...       ...       ...  ...       ...       ...   \n",
       "2024-12-27 -0.192384 -0.662044  0.123202  1.083813  ...  0.234849  0.204879   \n",
       "2024-12-28  0.217765 -0.340708 -0.308158  1.443098  ... -0.353340  0.344229   \n",
       "2024-12-29  0.422436 -0.511940 -0.463566  0.244848  ... -0.732007  0.114330   \n",
       "2024-12-30  0.378040 -0.362144 -0.558499 -0.397031  ... -0.550189 -0.074130   \n",
       "2024-12-31  0.268157 -0.214020 -1.353104 -0.231894  ... -0.351352  0.155090   \n",
       "\n",
       "                  20        21        22        23        24        25  \\\n",
       "DateTime                                                                 \n",
       "2024-01-01  0.041754  0.549005 -0.124738 -0.388016  0.087424 -0.090689   \n",
       "2024-01-02  0.158797  0.115913  0.026232 -0.018913  0.134730  0.291542   \n",
       "2024-01-03 -0.245832 -0.018099 -0.416507 -0.113527 -0.211673  0.044229   \n",
       "2024-01-04 -0.109389 -0.131369 -0.368148 -0.297717 -0.013685  0.038506   \n",
       "2024-01-05 -0.064304 -0.239933 -0.111817 -0.568544  0.124682  0.378179   \n",
       "...              ...       ...       ...       ...       ...       ...   \n",
       "2024-12-27 -0.105586 -0.025967 -0.221911 -0.221749 -0.449341  0.419807   \n",
       "2024-12-28 -0.295090 -0.431258  0.168587  0.088222 -0.054676 -0.074072   \n",
       "2024-12-29  0.148766 -0.215869  0.374394  0.177692  0.367819  0.349290   \n",
       "2024-12-30  0.222243 -0.073196  0.623630  0.098062  0.301505  0.112061   \n",
       "2024-12-31  0.323991 -0.076539  0.551062  0.033381  0.165367  0.008529   \n",
       "\n",
       "                  26        27  \n",
       "DateTime                        \n",
       "2024-01-01  0.116595 -0.159834  \n",
       "2024-01-02  0.094337 -0.381403  \n",
       "2024-01-03  0.294657 -0.559319  \n",
       "2024-01-04  0.349471 -0.400512  \n",
       "2024-01-05  0.337877 -0.444334  \n",
       "...              ...       ...  \n",
       "2024-12-27  0.418653 -0.251681  \n",
       "2024-12-28  0.103093  0.044565  \n",
       "2024-12-29  0.196180 -0.109168  \n",
       "2024-12-30  0.139501  0.018309  \n",
       "2024-12-31 -0.096624 -0.266922  \n",
       "\n",
       "[366 rows x 28 columns]"
      ]
     },
     "execution_count": 724,
     "metadata": {},
     "output_type": "execute_result"
    }
   ],
   "source": [
    "data_X_test"
   ]
  },
  {
   "cell_type": "code",
   "execution_count": 725,
   "id": "1ec86886-94ef-4f07-ba47-5b720a2aa4ee",
   "metadata": {},
   "outputs": [],
   "source": [
    "# Ensure datetime index is parsed correctly\n",
    "data_X_test.index = pd.to_datetime(data_X_test.index)\n",
    "\n",
    "# Filter only for June, July, August, and September\n",
    "data_X_test_jjas = data_X_test[data_X_test.index.month.isin([6, 7, 8, 9])]"
   ]
  },
  {
   "cell_type": "code",
   "execution_count": 726,
   "id": "2c0c79a3-80b4-4546-92a6-4fab1f39b135",
   "metadata": {},
   "outputs": [
    {
     "data": {
      "text/html": [
       "<div>\n",
       "<style scoped>\n",
       "    .dataframe tbody tr th:only-of-type {\n",
       "        vertical-align: middle;\n",
       "    }\n",
       "\n",
       "    .dataframe tbody tr th {\n",
       "        vertical-align: top;\n",
       "    }\n",
       "\n",
       "    .dataframe thead th {\n",
       "        text-align: right;\n",
       "    }\n",
       "</style>\n",
       "<table border=\"1\" class=\"dataframe\">\n",
       "  <thead>\n",
       "    <tr style=\"text-align: right;\">\n",
       "      <th></th>\n",
       "      <th>0</th>\n",
       "      <th>1</th>\n",
       "      <th>2</th>\n",
       "      <th>3</th>\n",
       "      <th>4</th>\n",
       "      <th>5</th>\n",
       "      <th>6</th>\n",
       "      <th>7</th>\n",
       "      <th>8</th>\n",
       "      <th>9</th>\n",
       "      <th>...</th>\n",
       "      <th>18</th>\n",
       "      <th>19</th>\n",
       "      <th>20</th>\n",
       "      <th>21</th>\n",
       "      <th>22</th>\n",
       "      <th>23</th>\n",
       "      <th>24</th>\n",
       "      <th>25</th>\n",
       "      <th>26</th>\n",
       "      <th>27</th>\n",
       "    </tr>\n",
       "    <tr>\n",
       "      <th>DateTime</th>\n",
       "      <th></th>\n",
       "      <th></th>\n",
       "      <th></th>\n",
       "      <th></th>\n",
       "      <th></th>\n",
       "      <th></th>\n",
       "      <th></th>\n",
       "      <th></th>\n",
       "      <th></th>\n",
       "      <th></th>\n",
       "      <th></th>\n",
       "      <th></th>\n",
       "      <th></th>\n",
       "      <th></th>\n",
       "      <th></th>\n",
       "      <th></th>\n",
       "      <th></th>\n",
       "      <th></th>\n",
       "      <th></th>\n",
       "      <th></th>\n",
       "      <th></th>\n",
       "    </tr>\n",
       "  </thead>\n",
       "  <tbody>\n",
       "    <tr>\n",
       "      <th>2024-06-01</th>\n",
       "      <td>6.529656</td>\n",
       "      <td>-3.645910</td>\n",
       "      <td>-1.274959</td>\n",
       "      <td>1.289849</td>\n",
       "      <td>0.202372</td>\n",
       "      <td>-0.131613</td>\n",
       "      <td>-0.810636</td>\n",
       "      <td>0.288662</td>\n",
       "      <td>0.101477</td>\n",
       "      <td>-0.472201</td>\n",
       "      <td>...</td>\n",
       "      <td>-0.174500</td>\n",
       "      <td>-0.410863</td>\n",
       "      <td>-0.046693</td>\n",
       "      <td>-0.146350</td>\n",
       "      <td>-0.080372</td>\n",
       "      <td>-0.071339</td>\n",
       "      <td>0.080007</td>\n",
       "      <td>0.027280</td>\n",
       "      <td>-0.354567</td>\n",
       "      <td>-0.055036</td>\n",
       "    </tr>\n",
       "    <tr>\n",
       "      <th>2024-06-02</th>\n",
       "      <td>5.312489</td>\n",
       "      <td>-4.052531</td>\n",
       "      <td>-0.410701</td>\n",
       "      <td>1.054201</td>\n",
       "      <td>0.104042</td>\n",
       "      <td>0.397241</td>\n",
       "      <td>0.245421</td>\n",
       "      <td>-0.363659</td>\n",
       "      <td>-0.256319</td>\n",
       "      <td>-0.978535</td>\n",
       "      <td>...</td>\n",
       "      <td>-0.086948</td>\n",
       "      <td>0.351287</td>\n",
       "      <td>-0.163984</td>\n",
       "      <td>0.026796</td>\n",
       "      <td>-0.070451</td>\n",
       "      <td>0.088532</td>\n",
       "      <td>0.421848</td>\n",
       "      <td>0.217010</td>\n",
       "      <td>0.015607</td>\n",
       "      <td>0.037659</td>\n",
       "    </tr>\n",
       "    <tr>\n",
       "      <th>2024-06-03</th>\n",
       "      <td>4.548176</td>\n",
       "      <td>-3.708885</td>\n",
       "      <td>-0.837260</td>\n",
       "      <td>0.264966</td>\n",
       "      <td>0.554187</td>\n",
       "      <td>0.459010</td>\n",
       "      <td>0.405975</td>\n",
       "      <td>0.233618</td>\n",
       "      <td>-0.121321</td>\n",
       "      <td>-1.012014</td>\n",
       "      <td>...</td>\n",
       "      <td>0.018261</td>\n",
       "      <td>0.152648</td>\n",
       "      <td>-0.009367</td>\n",
       "      <td>0.150535</td>\n",
       "      <td>-0.346834</td>\n",
       "      <td>0.040309</td>\n",
       "      <td>0.217958</td>\n",
       "      <td>0.191875</td>\n",
       "      <td>0.071044</td>\n",
       "      <td>0.193287</td>\n",
       "    </tr>\n",
       "    <tr>\n",
       "      <th>2024-06-04</th>\n",
       "      <td>3.861083</td>\n",
       "      <td>-2.336744</td>\n",
       "      <td>-1.550018</td>\n",
       "      <td>-0.183928</td>\n",
       "      <td>0.928024</td>\n",
       "      <td>0.745106</td>\n",
       "      <td>0.549811</td>\n",
       "      <td>1.279045</td>\n",
       "      <td>0.429698</td>\n",
       "      <td>-1.181882</td>\n",
       "      <td>...</td>\n",
       "      <td>0.144436</td>\n",
       "      <td>-0.237434</td>\n",
       "      <td>0.155839</td>\n",
       "      <td>-0.222806</td>\n",
       "      <td>-0.074464</td>\n",
       "      <td>-0.280795</td>\n",
       "      <td>0.215955</td>\n",
       "      <td>0.058184</td>\n",
       "      <td>0.339465</td>\n",
       "      <td>0.249633</td>\n",
       "    </tr>\n",
       "    <tr>\n",
       "      <th>2024-06-05</th>\n",
       "      <td>3.307547</td>\n",
       "      <td>-1.133531</td>\n",
       "      <td>-2.116845</td>\n",
       "      <td>-0.013248</td>\n",
       "      <td>1.237246</td>\n",
       "      <td>0.851003</td>\n",
       "      <td>0.821977</td>\n",
       "      <td>1.609978</td>\n",
       "      <td>0.241770</td>\n",
       "      <td>-1.490310</td>\n",
       "      <td>...</td>\n",
       "      <td>-0.270696</td>\n",
       "      <td>-0.441924</td>\n",
       "      <td>0.072395</td>\n",
       "      <td>0.026057</td>\n",
       "      <td>-0.118852</td>\n",
       "      <td>-0.268309</td>\n",
       "      <td>0.217440</td>\n",
       "      <td>-0.039420</td>\n",
       "      <td>0.178081</td>\n",
       "      <td>0.046593</td>\n",
       "    </tr>\n",
       "    <tr>\n",
       "      <th>...</th>\n",
       "      <td>...</td>\n",
       "      <td>...</td>\n",
       "      <td>...</td>\n",
       "      <td>...</td>\n",
       "      <td>...</td>\n",
       "      <td>...</td>\n",
       "      <td>...</td>\n",
       "      <td>...</td>\n",
       "      <td>...</td>\n",
       "      <td>...</td>\n",
       "      <td>...</td>\n",
       "      <td>...</td>\n",
       "      <td>...</td>\n",
       "      <td>...</td>\n",
       "      <td>...</td>\n",
       "      <td>...</td>\n",
       "      <td>...</td>\n",
       "      <td>...</td>\n",
       "      <td>...</td>\n",
       "      <td>...</td>\n",
       "      <td>...</td>\n",
       "    </tr>\n",
       "    <tr>\n",
       "      <th>2024-09-26</th>\n",
       "      <td>9.824240</td>\n",
       "      <td>3.742599</td>\n",
       "      <td>-1.829995</td>\n",
       "      <td>-0.020240</td>\n",
       "      <td>0.691637</td>\n",
       "      <td>1.052713</td>\n",
       "      <td>-0.461925</td>\n",
       "      <td>-0.754641</td>\n",
       "      <td>0.224951</td>\n",
       "      <td>0.017155</td>\n",
       "      <td>...</td>\n",
       "      <td>0.529173</td>\n",
       "      <td>-0.274170</td>\n",
       "      <td>0.237269</td>\n",
       "      <td>0.281987</td>\n",
       "      <td>0.184573</td>\n",
       "      <td>0.057825</td>\n",
       "      <td>-0.047767</td>\n",
       "      <td>-0.027823</td>\n",
       "      <td>-0.028282</td>\n",
       "      <td>0.093735</td>\n",
       "    </tr>\n",
       "    <tr>\n",
       "      <th>2024-09-27</th>\n",
       "      <td>9.732397</td>\n",
       "      <td>4.657977</td>\n",
       "      <td>-0.021711</td>\n",
       "      <td>0.458660</td>\n",
       "      <td>0.477454</td>\n",
       "      <td>0.352001</td>\n",
       "      <td>-0.320329</td>\n",
       "      <td>-0.677339</td>\n",
       "      <td>-0.442185</td>\n",
       "      <td>0.228546</td>\n",
       "      <td>...</td>\n",
       "      <td>0.347955</td>\n",
       "      <td>-0.027291</td>\n",
       "      <td>0.121719</td>\n",
       "      <td>0.415491</td>\n",
       "      <td>-0.047715</td>\n",
       "      <td>0.162239</td>\n",
       "      <td>0.033281</td>\n",
       "      <td>-0.018839</td>\n",
       "      <td>-0.054767</td>\n",
       "      <td>-0.057429</td>\n",
       "    </tr>\n",
       "    <tr>\n",
       "      <th>2024-09-28</th>\n",
       "      <td>7.448360</td>\n",
       "      <td>4.678530</td>\n",
       "      <td>2.505347</td>\n",
       "      <td>-0.438264</td>\n",
       "      <td>0.565709</td>\n",
       "      <td>0.512885</td>\n",
       "      <td>0.074416</td>\n",
       "      <td>-0.307707</td>\n",
       "      <td>-0.520260</td>\n",
       "      <td>0.208430</td>\n",
       "      <td>...</td>\n",
       "      <td>0.340170</td>\n",
       "      <td>0.158125</td>\n",
       "      <td>0.075123</td>\n",
       "      <td>-0.009892</td>\n",
       "      <td>0.190629</td>\n",
       "      <td>0.273266</td>\n",
       "      <td>0.064644</td>\n",
       "      <td>0.131594</td>\n",
       "      <td>-0.009207</td>\n",
       "      <td>0.020793</td>\n",
       "    </tr>\n",
       "    <tr>\n",
       "      <th>2024-09-29</th>\n",
       "      <td>4.796364</td>\n",
       "      <td>4.735482</td>\n",
       "      <td>4.545859</td>\n",
       "      <td>-0.584933</td>\n",
       "      <td>0.826202</td>\n",
       "      <td>0.921230</td>\n",
       "      <td>-0.847572</td>\n",
       "      <td>-0.293502</td>\n",
       "      <td>-0.479755</td>\n",
       "      <td>0.067905</td>\n",
       "      <td>...</td>\n",
       "      <td>0.499509</td>\n",
       "      <td>0.082157</td>\n",
       "      <td>0.337407</td>\n",
       "      <td>-0.058042</td>\n",
       "      <td>-0.058300</td>\n",
       "      <td>-0.075115</td>\n",
       "      <td>-0.227822</td>\n",
       "      <td>0.013109</td>\n",
       "      <td>0.004894</td>\n",
       "      <td>-0.085826</td>\n",
       "    </tr>\n",
       "    <tr>\n",
       "      <th>2024-09-30</th>\n",
       "      <td>3.911234</td>\n",
       "      <td>3.912534</td>\n",
       "      <td>4.825795</td>\n",
       "      <td>-0.781871</td>\n",
       "      <td>0.935780</td>\n",
       "      <td>0.956718</td>\n",
       "      <td>-0.454828</td>\n",
       "      <td>-0.552873</td>\n",
       "      <td>-0.068448</td>\n",
       "      <td>0.159996</td>\n",
       "      <td>...</td>\n",
       "      <td>0.628310</td>\n",
       "      <td>0.012272</td>\n",
       "      <td>-0.088263</td>\n",
       "      <td>-0.030958</td>\n",
       "      <td>-0.154764</td>\n",
       "      <td>-0.255763</td>\n",
       "      <td>-0.031728</td>\n",
       "      <td>-0.014772</td>\n",
       "      <td>0.115569</td>\n",
       "      <td>0.021095</td>\n",
       "    </tr>\n",
       "  </tbody>\n",
       "</table>\n",
       "<p>122 rows × 28 columns</p>\n",
       "</div>"
      ],
      "text/plain": [
       "                  0         1         2         3         4         5   \\\n",
       "DateTime                                                                 \n",
       "2024-06-01  6.529656 -3.645910 -1.274959  1.289849  0.202372 -0.131613   \n",
       "2024-06-02  5.312489 -4.052531 -0.410701  1.054201  0.104042  0.397241   \n",
       "2024-06-03  4.548176 -3.708885 -0.837260  0.264966  0.554187  0.459010   \n",
       "2024-06-04  3.861083 -2.336744 -1.550018 -0.183928  0.928024  0.745106   \n",
       "2024-06-05  3.307547 -1.133531 -2.116845 -0.013248  1.237246  0.851003   \n",
       "...              ...       ...       ...       ...       ...       ...   \n",
       "2024-09-26  9.824240  3.742599 -1.829995 -0.020240  0.691637  1.052713   \n",
       "2024-09-27  9.732397  4.657977 -0.021711  0.458660  0.477454  0.352001   \n",
       "2024-09-28  7.448360  4.678530  2.505347 -0.438264  0.565709  0.512885   \n",
       "2024-09-29  4.796364  4.735482  4.545859 -0.584933  0.826202  0.921230   \n",
       "2024-09-30  3.911234  3.912534  4.825795 -0.781871  0.935780  0.956718   \n",
       "\n",
       "                  6         7         8         9   ...        18        19  \\\n",
       "DateTime                                            ...                       \n",
       "2024-06-01 -0.810636  0.288662  0.101477 -0.472201  ... -0.174500 -0.410863   \n",
       "2024-06-02  0.245421 -0.363659 -0.256319 -0.978535  ... -0.086948  0.351287   \n",
       "2024-06-03  0.405975  0.233618 -0.121321 -1.012014  ...  0.018261  0.152648   \n",
       "2024-06-04  0.549811  1.279045  0.429698 -1.181882  ...  0.144436 -0.237434   \n",
       "2024-06-05  0.821977  1.609978  0.241770 -1.490310  ... -0.270696 -0.441924   \n",
       "...              ...       ...       ...       ...  ...       ...       ...   \n",
       "2024-09-26 -0.461925 -0.754641  0.224951  0.017155  ...  0.529173 -0.274170   \n",
       "2024-09-27 -0.320329 -0.677339 -0.442185  0.228546  ...  0.347955 -0.027291   \n",
       "2024-09-28  0.074416 -0.307707 -0.520260  0.208430  ...  0.340170  0.158125   \n",
       "2024-09-29 -0.847572 -0.293502 -0.479755  0.067905  ...  0.499509  0.082157   \n",
       "2024-09-30 -0.454828 -0.552873 -0.068448  0.159996  ...  0.628310  0.012272   \n",
       "\n",
       "                  20        21        22        23        24        25  \\\n",
       "DateTime                                                                 \n",
       "2024-06-01 -0.046693 -0.146350 -0.080372 -0.071339  0.080007  0.027280   \n",
       "2024-06-02 -0.163984  0.026796 -0.070451  0.088532  0.421848  0.217010   \n",
       "2024-06-03 -0.009367  0.150535 -0.346834  0.040309  0.217958  0.191875   \n",
       "2024-06-04  0.155839 -0.222806 -0.074464 -0.280795  0.215955  0.058184   \n",
       "2024-06-05  0.072395  0.026057 -0.118852 -0.268309  0.217440 -0.039420   \n",
       "...              ...       ...       ...       ...       ...       ...   \n",
       "2024-09-26  0.237269  0.281987  0.184573  0.057825 -0.047767 -0.027823   \n",
       "2024-09-27  0.121719  0.415491 -0.047715  0.162239  0.033281 -0.018839   \n",
       "2024-09-28  0.075123 -0.009892  0.190629  0.273266  0.064644  0.131594   \n",
       "2024-09-29  0.337407 -0.058042 -0.058300 -0.075115 -0.227822  0.013109   \n",
       "2024-09-30 -0.088263 -0.030958 -0.154764 -0.255763 -0.031728 -0.014772   \n",
       "\n",
       "                  26        27  \n",
       "DateTime                        \n",
       "2024-06-01 -0.354567 -0.055036  \n",
       "2024-06-02  0.015607  0.037659  \n",
       "2024-06-03  0.071044  0.193287  \n",
       "2024-06-04  0.339465  0.249633  \n",
       "2024-06-05  0.178081  0.046593  \n",
       "...              ...       ...  \n",
       "2024-09-26 -0.028282  0.093735  \n",
       "2024-09-27 -0.054767 -0.057429  \n",
       "2024-09-28 -0.009207  0.020793  \n",
       "2024-09-29  0.004894 -0.085826  \n",
       "2024-09-30  0.115569  0.021095  \n",
       "\n",
       "[122 rows x 28 columns]"
      ]
     },
     "execution_count": 726,
     "metadata": {},
     "output_type": "execute_result"
    }
   ],
   "source": [
    "data_X_test_jjas"
   ]
  },
  {
   "cell_type": "code",
   "execution_count": 727,
   "id": "31ef2ec8-e1d9-40a1-b60e-413625bf30c7",
   "metadata": {},
   "outputs": [
    {
     "data": {
      "text/plain": [
       "DateTime\n",
       "2024-06-01     0.000000\n",
       "2024-06-02     0.000000\n",
       "2024-06-03     0.000000\n",
       "2024-06-04     0.000000\n",
       "2024-06-05     0.000000\n",
       "                ...    \n",
       "2024-09-26     6.544021\n",
       "2024-09-27    12.412517\n",
       "2024-09-28    18.411810\n",
       "2024-09-29     1.689879\n",
       "2024-09-30     4.658721\n",
       "Name: Prec_23.0_72.5, Length: 122, dtype: float64"
      ]
     },
     "execution_count": 727,
     "metadata": {},
     "output_type": "execute_result"
    }
   ],
   "source": [
    "obs_test_data_jjas"
   ]
  },
  {
   "cell_type": "code",
   "execution_count": 728,
   "id": "a87a825e-6c99-4921-80a1-9060588c07b7",
   "metadata": {},
   "outputs": [],
   "source": [
    "from sklearn.linear_model import LinearRegression\n",
    "\n",
    "# Linear regression with intercept\n",
    "model = LinearRegression(fit_intercept=True)\n",
    "model.fit(data_X_test_jjas, obs_test_data_jjas)\n",
    "\n",
    "# Simulated values\n",
    "simulated_linreg = model.predict(data_X_test_jjas)\n",
    "\n",
    "# Set negative values to zero (like MATLAB's `max(..., 0)`)\n",
    "simulated_linreg = np.maximum(simulated_linreg, 0)"
   ]
  },
  {
   "cell_type": "code",
   "execution_count": 729,
   "id": "d2f05dc7-394e-4d93-9b2b-1fd2498f9de6",
   "metadata": {},
   "outputs": [
    {
     "data": {
      "image/png": "[encoded data removed]",
      "text/plain": [
       "<Figure size 1200x500 with 1 Axes>"
      ]
     },
     "metadata": {},
     "output_type": "display_data"
    }
   ],
   "source": [
    "# Plot\n",
    "import matplotlib.dates as mdates\n",
    "# Compute metrics\n",
    "corr, _ = pearsonr(obs_test_data_jjas,simulated_linreg)\n",
    "rmse = np.sqrt(mean_squared_error(obs_test_data_jjas,simulated_linreg))\n",
    "\n",
    "plt.figure(figsize=(12, 5))\n",
    "plt.plot(time_steps, obs_test_data_jjas, label='Observed', color='red', linewidth=1.5)\n",
    "plt.plot(time_steps, simulated_linreg, label='Predicted', color='blue', linestyle='--', linewidth=1.5)\n",
    "\n",
    "plt.gca().xaxis.set_major_locator(mdates.DayLocator(interval=7))  # Tick every 8 days\n",
    "plt.gca().xaxis.set_major_formatter(mdates.DateFormatter('%d%b'))  # Format like Jan-2024\n",
    "plt.xlim(time_steps.min(), time_steps.max())\n",
    "# Format the x-axis to show fewer dates\n",
    "\n",
    "# Add metrics as annotation box\n",
    "textstr = f'r: {corr:.3f}\\nRMSE: {rmse:.2f} mm'\n",
    "props = dict(boxstyle='round,pad=0.4', facecolor='lightyellow', alpha=0.9)\n",
    "plt.text(0.02, 0.95, textstr, transform=plt.gca().transAxes, fontsize=10,\n",
    "         verticalalignment='top', bbox=props)\n",
    "\n",
    "# Axis and labels\n",
    "plt.title('Observed vs Predicted Rainfall_2024_G_R_1000 Predictor Combination_LR Method')\n",
    "plt.xlabel('Date')\n",
    "plt.ylabel('Rainfall (mm)')\n",
    "plt.legend()\n",
    "plt.grid(True)\n",
    "plt.tight_layout()\n",
    "plt.xticks(rotation=90)\n",
    "plt.savefig(r'C:\\Users\\Angshudeep Majumdar\\Documents\\Angshudeep Lappy\\Ruvision\\Model Plots\\G_R_1000\\Linearreg_quantreg_G_R_1000.png', dpi=300, bbox_inches='tight')\n",
    "plt.show()"
   ]
  },
  {
   "cell_type": "code",
   "execution_count": 730,
   "id": "823bf470-1f2d-4d48-813c-3b2239ec6dc4",
   "metadata": {},
   "outputs": [],
   "source": [
    "def quantile_loss(y_true, y_pred, q):\n",
    "    errors = y_true - y_pred\n",
    "    return np.mean(np.maximum(q * errors, (q - 1) * errors))\n",
    "\n",
    "def compute_cqvss(y_true, y_pred_model, y_pred_ref, quantile):\n",
    "    ql_model = quantile_loss(y_true, y_pred_model, quantile)\n",
    "    ql_ref = quantile_loss(y_true, y_pred_ref, quantile)\n",
    "    return (1-(ql_model / ql_ref)) if ql_ref != 0 else np.nan"
   ]
  },
  {
   "cell_type": "code",
   "execution_count": 731,
   "id": "2d6ae23f-8a03-473f-969e-8cdd5b9672fa",
   "metadata": {},
   "outputs": [
    {
     "name": "stdout",
     "output_type": "stream",
     "text": [
      "Threshold (90th percentile of observed): 40.29\n",
      "   Quantile  Hits  Misses  False Alarms  Correct Negatives  Correlation  \\\n",
      "0      0.80     1       6             0                115        0.521   \n",
      "1      0.85     3       4             4                111        0.463   \n",
      "2      0.90     6       1            11                104        0.496   \n",
      "3      0.95     6       1            22                 93        0.515   \n",
      "4      0.99     6       1            48                 67        0.506   \n",
      "\n",
      "   Negative Correlation  Hit Rate (POD)  False Alarm Ratio (FAR)  \\\n",
      "0                 False           0.143                    0.000   \n",
      "1                 False           0.429                    0.571   \n",
      "2                 False           0.857                    0.647   \n",
      "3                 False           0.857                    0.786   \n",
      "4                 False           0.857                    0.889   \n",
      "\n",
      "   Threat Score (TS)  Bias Score  Heidke Skill Score (HSS)  ÇQVSS Score  \n",
      "0              0.143       0.143                     0.239       -0.345  \n",
      "1              0.273       1.000                     0.394       -0.426  \n",
      "2              0.333       2.429                     0.456       -0.123  \n",
      "3              0.207       4.000                     0.276        0.184  \n",
      "4              0.109       7.714                     0.106        0.567  \n"
     ]
    }
   ],
   "source": [
    "# Collect all metrics\n",
    "results = []\n",
    "# Observed values\n",
    "y_true = np.array(obs_test_data_jjas).flatten()\n",
    "y_pred_ref = np.array(simulated_linreg).flatten()  # Linear regression reference\n",
    "quantiles = [0.8, 0.85, 0.9, 0.95, 0.99]\n",
    "threshold = np.percentile(observed_values, 95)\n",
    "print(f\"Threshold (90th percentile of observed): {threshold:.2f}\")\n",
    "\n",
    "# Initialize metric storage\n",
    "hit_rates = []\n",
    "threat_scores = []\n",
    "biases = []\n",
    "false_alarm_ratios = []\n",
    "heidke_skill_score =[]\n",
    "cqvss_scores=[]\n",
    "# List of predicted datasets for different quantiles\n",
    "predicted_data = [\n",
    "    rain_80_abovezero_test_jjas,\n",
    "    rain_85_abovezero_test_jjas,\n",
    "    rain_90_abovezero_test_jjas,\n",
    "    rain_95_abovezero_test_jjas,\n",
    "    rain_99_abovezero_test_jjas,\n",
    "]\n",
    "\n",
    "for q, pred in zip(quantiles, predicted_data):\n",
    "    obs = np.array(observed_values)\n",
    "    pred = np.array(pred)\n",
    "    \n",
    "    # Binary thresholding\n",
    "    obs_binary = obs > threshold\n",
    "    pred_binary = pred > threshold\n",
    "\n",
    "    # Contingency table counts\n",
    "    H  = np.sum((obs_binary == 1) & (pred_binary == 1))  # Hits\n",
    "    M  = np.sum((obs_binary == 1) & (pred_binary == 0))  # Misses\n",
    "    FA = np.sum((obs_binary == 0) & (pred_binary == 1))  # False Alarms\n",
    "    CN = np.sum((obs_binary == 0) & (pred_binary == 0))  # Correct Negatives\n",
    "\n",
    "    # Metrics\n",
    "    POD  = H / (H + M) if (H + M) > 0 else np.nan\n",
    "    FAR  = FA / (H + FA) if (H + FA) > 0 else np.nan\n",
    "    TS   = H / (H + M + FA) if (H + M + FA) > 0 else np.nan\n",
    "    BIAS = (H + FA) / (H + M) if (H + M) > 0 else np.nan\n",
    "\n",
    "    # Heidke Skill Score\n",
    "    denom = ((H + M) * (M + CN)) + ((H + FA) * (FA + CN))\n",
    "    HSS = (2 * (H * CN - FA * M)) / denom if denom != 0 else np.nan\n",
    "\n",
    "    cqvss_scores = []\n",
    "    y_pred_model = np.array(pred).flatten()\n",
    "    \n",
    "    # Mask valid data\n",
    "    y_t = y_true\n",
    "    y_m = y_pred_model\n",
    "    y_r = y_pred_ref\n",
    "\n",
    "    # Compute CQVSS using linear regression as reference\n",
    "    cqvss = compute_cqvss(y_t, y_m, y_r, q)\n",
    "    cqvss_scores.append(cqvss)\n",
    "\n",
    "    # Pearson Correlation\n",
    "    corr, _ = pearsonr(obs, pred)\n",
    "\n",
    "    # Mask valid data\n",
    "    y_t = y_true\n",
    "    y_m = y_pred_model\n",
    "    y_r = y_pred_ref\n",
    "\n",
    "    # Compute CQVSS using linear regression as reference\n",
    "    cqvss = compute_cqvss(y_t, y_m, y_r, q)\n",
    "    cqvss_scores.append(cqvss)\n",
    "\n",
    "    # Append results\n",
    "    results.append({\n",
    "        'Quantile': q,\n",
    "        'Hits': H,\n",
    "        'Misses': M,\n",
    "        'False Alarms': FA,\n",
    "        'Correct Negatives': CN,\n",
    "        'Correlation': round(corr, 3),\n",
    "        'Negative Correlation': corr < 0,\n",
    "        'Hit Rate (POD)': round(POD, 3),\n",
    "        'False Alarm Ratio (FAR)': round(FAR, 3),\n",
    "        'Threat Score (TS)': round(TS, 3),\n",
    "        'Bias Score': round(BIAS, 3),\n",
    "        'Heidke Skill Score (HSS)': round(HSS, 3),\n",
    "        'ÇQVSS Score': round(cqvss, 3)\n",
    "    })\n",
    "\n",
    "# Convert to DataFrame\n",
    "contingency_df = pd.DataFrame(results)\n",
    "\n",
    "# Display results\n",
    "print(contingency_df)"
   ]
  },
  {
   "cell_type": "code",
   "execution_count": 732,
   "id": "b5d954ac-7f30-409a-9473-8deb626a7252",
   "metadata": {},
   "outputs": [],
   "source": [
    "contingency_df.to_excel(r'C:\\Users\\Angshudeep Majumdar\\Documents\\Angshudeep Lappy\\Ruvision\\Model Plots\\G_R_1000\\Contingency Matrix_Censored.xlsx')"
   ]
  },
  {
   "cell_type": "code",
   "execution_count": 733,
   "id": "7645d226-bc54-47a8-8066-816b59c7dc2b",
   "metadata": {},
   "outputs": [
    {
     "name": "stdout",
     "output_type": "stream",
     "text": [
      "Threshold (95th percentile of observed): 40.29\n"
     ]
    },
    {
     "data": {
      "image/png": "[encoded data removed]",
      "text/plain": [
       "<Figure size 1200x800 with 6 Axes>"
      ]
     },
     "metadata": {},
     "output_type": "display_data"
    }
   ],
   "source": [
    "# Convert observed data to numpy array\n",
    "observed_values = np.array(obs_test_data_jjas)\n",
    "\n",
    "# Compute dynamic threshold: 95th percentile of observed values\n",
    "threshold = np.percentile(observed_values, 95)\n",
    "print(f\"Threshold (95th percentile of observed): {threshold:.2f}\")\n",
    "\n",
    "# List of predicted datasets for different quantiles\n",
    "predicted_data = [\n",
    "    rain_80_abovezero_test_jjas,\n",
    "    rain_85_abovezero_test_jjas,\n",
    "    rain_90_abovezero_test_jjas,\n",
    "    rain_95_abovezero_test_jjas,\n",
    "    rain_99_abovezero_test_jjas,\n",
    "]\n",
    "\n",
    "quantiles = [0.8, 0.85, 0.9, 0.95, 0.99]\n",
    "\n",
    "# Initialize metric storage\n",
    "hit_rates = []\n",
    "threat_scores = []\n",
    "biases = []\n",
    "false_alarm_ratios = []\n",
    "heidke_skill_score =[]\n",
    "#cqvss_scores = []\n",
    "\n",
    "# Loop through each quantile prediction\n",
    "for pred in predicted_data:\n",
    "    pred = np.array(pred)\n",
    "\n",
    "    pred_binary = pred > threshold\n",
    "    obs_binary = observed_values > threshold\n",
    "\n",
    "    # Contingency table\n",
    "    H = np.sum((pred_binary == 1) & (obs_binary == 1))   # Hits\n",
    "    M = np.sum((pred_binary == 0) & (obs_binary == 1))   # Misses\n",
    "    FA = np.sum((pred_binary == 1) & (obs_binary == 0))  # False Alarms\n",
    "    CN = np.sum((obs_binary == 0) & (pred_binary == 0))  # Correct Negatives\n",
    "\n",
    "    # Metric calculations\n",
    "    POD = H / (H + M) if (H + M) > 0 else np.nan\n",
    "    TS = H / (H + M + FA) if (H + M + FA) > 0 else np.nan\n",
    "    Bias = (H + FA) / (H + M) if (H + M) > 0 else np.nan\n",
    "    FAR = FA / (H + FA) if (H + FA) > 0 else np.nan\n",
    "\n",
    "    # Heidke Skill Score\n",
    "    denom = ((H + M) * (M + CN)) + ((H + FA) * (FA + CN))\n",
    "    HSS = (2 * (H * CN - FA * M)) / denom if denom != 0 else np.nan\n",
    "\n",
    "    y_pred_model = np.array(pred).flatten()\n",
    "    \n",
    "\n",
    "    hit_rates.append(POD)\n",
    "    threat_scores.append(TS)\n",
    "    biases.append(Bias)\n",
    "    false_alarm_ratios.append(FAR)\n",
    "    heidke_skill_score.append(HSS)\n",
    "    #cqvss_scores.append(cqvss)\n",
    "\n",
    "metrics = [hit_rates, threat_scores, biases, false_alarm_ratios, heidke_skill_score, cqvss_scores]\n",
    "titles = ['Hit Rate (POD)', 'Threat Score (TS)', 'Bias', 'False Alarm Ratio (FAR)', 'Heidke Skill Score (HSS)']\n",
    "colors = ['skyblue', 'lightgreen', 'orange', 'salmon', 'red']\n",
    "\n",
    "fig, axs = plt.subplots(2, 3, figsize=(12, 8))\n",
    "axs = axs.ravel()\n",
    "\n",
    "for i, (metric, title, color) in enumerate(zip(metrics, titles, colors)):\n",
    "    axs[i].bar([str(q) for q in quantiles], metric, color=color)\n",
    "    axs[i].set_title(title)\n",
    "    axs[i].set_ylim(0, 1)\n",
    "    axs[i].set_xlabel('Quantile')\n",
    "    axs[i].set_ylabel('Score')\n",
    "    axs[i].grid(True)\n",
    "# Hide the unused 6th subplot\n",
    "axs[-1].axis('off')\n",
    "\n",
    "plt.suptitle('Verification Metrics for Extreme Rainfall Events (Obs > 95th Percentile)_G_R_1000 Combination_CQM', fontsize=14)\n",
    "plt.tight_layout(rect=[0, 0, 1, 0.95])\n",
    "plt.savefig(r'C:\\Users\\Angshudeep Majumdar\\Documents\\Angshudeep Lappy\\Ruvision\\Model Plots\\G_R_1000\\Performance metrics_quantreg_G_R_1000.png', dpi=300, bbox_inches='tight')\n",
    "plt.show()"
   ]
  },
  {
   "cell_type": "code",
   "execution_count": 734,
   "id": "a062c229-5fe3-4a0a-b804-6d2cf406d4ca",
   "metadata": {},
   "outputs": [
    {
     "name": "stdout",
     "output_type": "stream",
     "text": [
      "Hit Rate: 0.714\n",
      "Threat Score (TS): 0.625\n",
      "Bias: 0.857\n",
      "False Alarm Ratio (FAR): 0.167\n"
     ]
    }
   ],
   "source": [
    "import numpy as np\n",
    "\n",
    "# Binary classification: Rain (1) or No rain (0)\n",
    "obs_binary = (observed_values >= threshold).astype(int)\n",
    "sim_binary = (simulated_linreg >= threshold).astype(int)\n",
    "\n",
    "# Contingency table elements\n",
    "hits = np.sum((sim_binary == 1) & (obs_binary == 1))       # a\n",
    "false_alarms = np.sum((sim_binary == 1) & (obs_binary == 0))  # b\n",
    "misses = np.sum((sim_binary == 0) & (obs_binary == 1))     # c\n",
    "correct_negatives = np.sum((sim_binary == 0) & (obs_binary == 0))  # d\n",
    "\n",
    "# Metrics\n",
    "hit_rate = hits / (hits + misses) if (hits + misses) > 0 else np.nan\n",
    "threat_score = hits / (hits + misses + false_alarms) if (hits + misses + false_alarms) > 0 else np.nan\n",
    "bias = (hits + false_alarms) / (hits + misses) if (hits + misses) > 0 else np.nan\n",
    "false_alarm_ratio = false_alarms / (hits + false_alarms) if (hits + false_alarms) > 0 else np.nan\n",
    "\n",
    "# Print the metrics\n",
    "print(f\"Hit Rate: {hit_rate:.3f}\")\n",
    "print(f\"Threat Score (TS): {threat_score:.3f}\")\n",
    "print(f\"Bias: {bias:.3f}\")\n",
    "print(f\"False Alarm Ratio (FAR): {false_alarm_ratio:.3f}\")\n"
   ]
  },
  {
   "cell_type": "code",
   "execution_count": 735,
   "id": "a07b6315-9280-485d-af49-56c71f8de824",
   "metadata": {},
   "outputs": [
    {
     "data": {
      "text/plain": [
       "5"
      ]
     },
     "execution_count": 735,
     "metadata": {},
     "output_type": "execute_result"
    }
   ],
   "source": [
    "hits"
   ]
  },
  {
   "cell_type": "code",
   "execution_count": 736,
   "id": "88f5e07d-7dea-4523-a1e9-bae4898167b0",
   "metadata": {},
   "outputs": [
    {
     "data": {
      "text/plain": [
       "2"
      ]
     },
     "execution_count": 736,
     "metadata": {},
     "output_type": "execute_result"
    }
   ],
   "source": [
    "misses"
   ]
  },
  {
   "cell_type": "code",
   "execution_count": 737,
   "id": "9f70ee99-699f-4e89-a033-54a41370e203",
   "metadata": {},
   "outputs": [
    {
     "data": {
      "text/plain": [
       "1"
      ]
     },
     "execution_count": 737,
     "metadata": {},
     "output_type": "execute_result"
    }
   ],
   "source": [
    "false_alarms"
   ]
  },
  {
   "cell_type": "code",
   "execution_count": 738,
   "id": "97f06b9b-2034-42d7-998c-fd5060fd6700",
   "metadata": {},
   "outputs": [
    {
     "data": {
      "text/plain": [
       "114"
      ]
     },
     "execution_count": 738,
     "metadata": {},
     "output_type": "execute_result"
    }
   ],
   "source": [
    "correct_negatives"
   ]
  },
  {
   "cell_type": "code",
   "execution_count": 739,
   "id": "936fd5ec-7e50-48d5-b8a3-2bcf0c3e3e9c",
   "metadata": {},
   "outputs": [
    {
     "name": "stdout",
     "output_type": "stream",
     "text": [
      "2: r = -0.030 (Negative)\n",
      "4: r = -0.224 (Negative)\n",
      "5: r = -0.357 (Negative)\n",
      "6: r = -0.006 (Negative)\n",
      "7: r = -0.116 (Negative)\n",
      "8: r = -0.211 (Negative)\n",
      "10: r = -0.096 (Negative)\n",
      "13: r = -0.150 (Negative)\n",
      "14: r = -0.153 (Negative)\n",
      "15: r = -0.037 (Negative)\n",
      "17: r = -0.148 (Negative)\n",
      "19: r = -0.204 (Negative)\n",
      "23: r = -0.209 (Negative)\n",
      "24: r = -0.309 (Negative)\n",
      "25: r = -0.035 (Negative)\n",
      "27: r = -0.008 (Negative)\n",
      "\n",
      "Total features: 28\n",
      "Number of features with negative correlation: 16\n"
     ]
    }
   ],
   "source": [
    "from scipy.stats import pearsonr\n",
    "\n",
    "negative_corr_count = 0\n",
    "total_features = data_X_test_jjas.shape[1]\n",
    "\n",
    "for col in data_X_test_jjas.columns:\n",
    "    r, _ = pearsonr(data_X_test_jjas[col], obs_test_data_jjas)\n",
    "    if r < 0:\n",
    "        negative_corr_count += 1\n",
    "        print(f\"{col}: r = {r:.3f} (Negative)\")\n",
    "\n",
    "print(f\"\\nTotal features: {total_features}\")\n",
    "print(f\"Number of features with negative correlation: {negative_corr_count}\")\n"
   ]
  },
  {
   "cell_type": "code",
   "execution_count": null,
   "id": "2082eb60-d86f-48bc-b4ad-5b452a75c3d2",
   "metadata": {},
   "outputs": [],
   "source": []
  }
 ],
 "metadata": {
  "kernelspec": {
   "display_name": "Python 3 (ipykernel)",
   "language": "python",
   "name": "python3"
  },
  "language_info": {
   "codemirror_mode": {
    "name": "ipython",
    "version": 3
   },
   "file_extension": ".py",
   "mimetype": "text/x-python",
   "name": "python",
   "nbconvert_exporter": "python",
   "pygments_lexer": "ipython3",
   "version": "3.12.3"
  }
 },
 "nbformat": 4,
 "nbformat_minor": 5
}
